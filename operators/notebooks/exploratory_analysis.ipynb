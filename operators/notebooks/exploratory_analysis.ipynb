{
 "cells": [
  {
   "attachments": {},
   "cell_type": "markdown",
   "metadata": {},
   "source": [
    "# Exploratory Analysis: Ubuntu-Packages"
   ]
  },
  {
   "cell_type": "code",
   "execution_count": 2,
   "metadata": {},
   "outputs": [],
   "source": [
    "import pandas as pd\n",
    "import matplotlib.pyplot as plt\n",
    "import seaborn as sns\n",
    "import numpy as np\n",
    "\n",
    "df = pd.read_csv(\"../datawarehouse/processed-ubuntu-packages.csv\")"
   ]
  },
  {
   "attachments": {},
   "cell_type": "markdown",
   "metadata": {},
   "source": [
    "Brief look at the data"
   ]
  },
  {
   "cell_type": "code",
   "execution_count": 3,
   "metadata": {},
   "outputs": [
    {
     "name": "stdout",
     "output_type": "stream",
     "text": [
      "   Distro-Version  Distro-Year       Package  Description Section  \\\n",
      "0  18.04 - bionic         2018          acct  Description   admin   \n",
      "1  18.04 - bionic         2018           acl  Description   utils   \n",
      "2  18.04 - bionic         2018  acpi-support  Description   admin   \n",
      "3  18.04 - bionic         2018         acpid  Description   admin   \n",
      "4  18.04 - bionic         2018       adduser  Description   admin   \n",
      "\n",
      "             Version Architecture   Priority Essential Build-Essential  ...  \\\n",
      "0            6.6.4-1        amd64   optional        no              no  ...   \n",
      "1     2.2.52-3build1        amd64   optional        no              no  ...   \n",
      "2              0.142        amd64   optional        no              no  ...   \n",
      "3  1:2.0.28-1ubuntu1        amd64   optional        no              no  ...   \n",
      "4       3.116ubuntu1          all  important        no             yes  ...   \n",
      "\n",
      "  Original-Maintainer      Size  Installed-Size  \\\n",
      "0              Debian   87216.0           297.0   \n",
      "1              Anibal   38504.0           200.0   \n",
      "2                Bart   10196.0            92.0   \n",
      "3              Debian   36518.0           139.0   \n",
      "4              Debian  162684.0           624.0   \n",
      "\n",
      "                                             Depends Pre-Depends  \\\n",
      "0                          libc6 (>= 2.14), lsb-base         NaN   \n",
      "1        libacl1 (= 2.2.52-3build1), libc6 (>= 2.14)         NaN   \n",
      "2                          acpid (>= 1.0.4-1ubuntu4)         NaN   \n",
      "3  libc6 (>= 2.15), init-system-helpers (>= 1.18~...         NaN   \n",
      "4             passwd, debconf (>= 0.5) | debconf-2.0         NaN   \n",
      "\n",
      "                Recommends         Conflicts  \\\n",
      "0                      NaN               NaN   \n",
      "1                      NaN               NaN   \n",
      "2  toshset, wireless-tools  uswsusp (<= 0.2)   \n",
      "3  toshset, wireless-tools  uswsusp (<= 0.2)   \n",
      "4  toshset, wireless-tools  uswsusp (<= 0.2)   \n",
      "\n",
      "                                            Suggests Replaces Provides  \n",
      "0                                                NaN      NaN      NaN  \n",
      "1                                                NaN      NaN      NaN  \n",
      "2                                                NaN      NaN      NaN  \n",
      "3                                                NaN      NaN      NaN  \n",
      "4  liblocale-gettext-perl, perl, ecryptfs-utils (...      NaN      NaN  \n",
      "\n",
      "[5 rows x 21 columns]\n",
      "(299728, 21)\n"
     ]
    }
   ],
   "source": [
    "print(df.head())\n",
    "print(df.shape)"
   ]
  },
  {
   "cell_type": "code",
   "execution_count": 4,
   "metadata": {},
   "outputs": [
    {
     "name": "stdout",
     "output_type": "stream",
     "text": [
      "        Distro-Year          Size  Installed-Size\n",
      "count  299728.00000  2.997280e+05    2.997280e+05\n",
      "mean     2020.40019  2.799956e+06    1.036722e+04\n",
      "std         1.67108  1.717811e+07    8.584265e+04\n",
      "min      2018.00000  7.340000e+02    2.000000e+00\n",
      "25%      2018.00000  1.390600e+04    6.600000e+01\n",
      "50%      2020.00000  6.090400e+04    2.870000e+02\n",
      "75%      2022.00000  5.443205e+05    2.361000e+03\n",
      "max      2022.00000  2.873482e+09    1.388204e+07\n"
     ]
    }
   ],
   "source": [
    "print(df.describe())"
   ]
  },
  {
   "cell_type": "code",
   "execution_count": 5,
   "metadata": {},
   "outputs": [
    {
     "name": "stdout",
     "output_type": "stream",
     "text": [
      "<class 'pandas.core.frame.DataFrame'>\n",
      "RangeIndex: 299728 entries, 0 to 299727\n",
      "Data columns (total 21 columns):\n",
      " #   Column               Non-Null Count   Dtype  \n",
      "---  ------               --------------   -----  \n",
      " 0   Distro-Version       299728 non-null  object \n",
      " 1   Distro-Year          299728 non-null  int64  \n",
      " 2   Package              299728 non-null  object \n",
      " 3   Description          299728 non-null  object \n",
      " 4   Section              299728 non-null  object \n",
      " 5   Version              299727 non-null  object \n",
      " 6   Architecture         299728 non-null  object \n",
      " 7   Priority             299728 non-null  object \n",
      " 8   Essential            299728 non-null  object \n",
      " 9   Build-Essential      299728 non-null  object \n",
      " 10  Maintainer           299728 non-null  object \n",
      " 11  Original-Maintainer  299728 non-null  object \n",
      " 12  Size                 299728 non-null  float64\n",
      " 13  Installed-Size       299728 non-null  float64\n",
      " 14  Depends              299728 non-null  object \n",
      " 15  Pre-Depends          299648 non-null  object \n",
      " 16  Recommends           299722 non-null  object \n",
      " 17  Conflicts            299707 non-null  object \n",
      " 18  Suggests             299715 non-null  object \n",
      " 19  Replaces             299703 non-null  object \n",
      " 20  Provides             299697 non-null  object \n",
      "dtypes: float64(2), int64(1), object(18)\n",
      "memory usage: 48.0+ MB\n"
     ]
    }
   ],
   "source": [
    "df.info()"
   ]
  },
  {
   "attachments": {},
   "cell_type": "markdown",
   "metadata": {},
   "source": [
    "## Frequency and Trends"
   ]
  },
  {
   "cell_type": "code",
   "execution_count": 6,
   "metadata": {},
   "outputs": [
    {
     "data": {
      "image/png": "[encoded data removed]",
      "text/plain": [
       "<Figure size 432x288 with 1 Axes>"
      ]
     },
     "metadata": {
      "needs_background": "light"
     },
     "output_type": "display_data"
    },
    {
     "data": {
      "image/png": "[encoded data removed]",
      "text/plain": [
       "<Figure size 432x288 with 1 Axes>"
      ]
     },
     "metadata": {},
     "output_type": "display_data"
    }
   ],
   "source": [
    "# Number of packages per distro version\n",
    "pckg_count = df['Distro-Version'].value_counts()\n",
    "pckg_count.plot(kind='bar')\n",
    "plt.title('Number of packages per distro version')\n",
    "plt.xlabel('Distro version')\n",
    "plt.ylabel('Number of packages')\n",
    "\n",
    "# Pie chart of packages per distro version\n",
    "plt.figure()\n",
    "plt.pie(pckg_count, labels=pckg_count.index, autopct=lambda p: '{:.2f}%({:.0f})'.format(p,(p/100)*pckg_count.sum()))\n",
    "plt.title('Packages per distro version')\n",
    "plt.show()"
   ]
  },
  {
   "attachments": {},
   "cell_type": "markdown",
   "metadata": {},
   "source": [
    "Most common values"
   ]
  },
  {
   "cell_type": "code",
   "execution_count": 7,
   "metadata": {},
   "outputs": [
    {
     "name": "stdout",
     "output_type": "stream",
     "text": [
      "Most common maintainers for each distro version\n",
      "Bionic: \n",
      " Ubuntu       71412\n",
      "Canonical     7127\n",
      "Debian         495\n",
      "Language       340\n",
      "Kubuntu        217\n",
      "Name: Maintainer, dtype: int64\n",
      "Focal: \n",
      " Ubuntu        67681\n",
      "Canonical      9411\n",
      "Language        348\n",
      "Commercial      122\n",
      "Kubuntu         101\n",
      "Name: Maintainer, dtype: int64\n",
      "Jammy: \n",
      " Ubuntu       66072\n",
      "Canonical     3285\n",
      "Kubuntu       1045\n",
      "Language       348\n",
      "Lubuntu         77\n",
      "Name: Maintainer, dtype: int64\n",
      "Kinetik: \n",
      " Ubuntu       66028\n",
      "Kubuntu       1029\n",
      "Canonical      918\n",
      "Language       348\n",
      "David           74\n",
      "Name: Maintainer, dtype: int64\n"
     ]
    },
    {
     "data": {
      "image/png": "[encoded data removed]",
      "text/plain": [
       "<Figure size 432x288 with 4 Axes>"
      ]
     },
     "metadata": {
      "needs_background": "light"
     },
     "output_type": "display_data"
    }
   ],
   "source": [
    "# Most common maintainers for each distro version\n",
    "df_bionic = df[df['Distro-Version'] == '18.04 - bionic']\n",
    "df_focal = df[df['Distro-Version'] == '20.04 - focal']\n",
    "df_jammy = df[df['Distro-Version'] == '22.04 - jammy']\n",
    "df_kinetik = df[df['Distro-Version'] == '22.10 - kinetic']\n",
    "\n",
    "# Show 5 most common maintainers for each distro version\n",
    "print('Most common maintainers for each distro version')\n",
    "print('Bionic: \\n', df_bionic['Maintainer'].value_counts().head(5))\n",
    "print('Focal: \\n', df_focal['Maintainer'].value_counts().head(5))\n",
    "print('Jammy: \\n', df_jammy['Maintainer'].value_counts().head(5))\n",
    "print('Kinetik: \\n', df_kinetik['Maintainer'].value_counts().head(5))\n",
    "\n",
    "# Plot 5 most common maintainers for each distro version\n",
    "plt.figure()\n",
    "plt.subplot(2,2,1)\n",
    "df_bionic['Maintainer'].value_counts().head(5).plot(kind='bar')\n",
    "plt.title('Bionic')\n",
    "plt.xlabel('Maintainer')\n",
    "plt.ylabel('Number of packages')\n",
    "plt.subplot(2,2,2)\n",
    "df_focal['Maintainer'].value_counts().head(5).plot(kind='bar')\n",
    "plt.title('Focal')\n",
    "plt.xlabel('Maintainer')\n",
    "plt.ylabel('Number of packages')\n",
    "plt.subplot(2,2,3)\n",
    "df_jammy['Maintainer'].value_counts().head(5).plot(kind='bar')\n",
    "plt.title('Jammy')\n",
    "plt.xlabel('Maintainer')\n",
    "plt.ylabel('Number of packages')\n",
    "plt.subplot(2,2,4)\n",
    "df_kinetik['Maintainer'].value_counts().head(5).plot(kind='bar')\n",
    "plt.title('Kinetik')\n",
    "plt.xlabel('Maintainer')\n",
    "plt.ylabel('Number of packages')\n",
    "plt.tight_layout()\n",
    "plt.show()"
   ]
  },
  {
   "attachments": {},
   "cell_type": "markdown",
   "metadata": {},
   "source": [
    "Ubuntu seems to be the main maintainer of the packages in all versions. Let's see if we obtain the same results looking at the original mantainers."
   ]
  },
  {
   "cell_type": "code",
   "execution_count": 8,
   "metadata": {},
   "outputs": [
    {
     "name": "stdout",
     "output_type": "stream",
     "text": [
      "Most common maintainers for each distro version\n",
      "Bionic: \n",
      " Debian            44208\n",
      "Alberto            6336\n",
      "Cross              4512\n",
      "Debian/Kubuntu     1234\n",
      "Mattia              935\n",
      "Name: Original-Maintainer, dtype: int64\n",
      "Focal: \n",
      " Debian            45513\n",
      "Alberto            8899\n",
      "Cross              3293\n",
      "Debian/Kubuntu      977\n",
      "Landscape           332\n",
      "Name: Original-Maintainer, dtype: int64\n",
      "Jammy: \n",
      " Debian            47902\n",
      "Mark               3291\n",
      "Debian/Kubuntu      442\n",
      "Sam                 403\n",
      "Alberto             308\n",
      "Name: Original-Maintainer, dtype: int64\n",
      "Kinetik: \n",
      " Debian            48597\n",
      "Debian/Kubuntu      429\n",
      "Landscape           350\n",
      "Matthias            298\n",
      "Mattias             293\n",
      "Name: Original-Maintainer, dtype: int64\n"
     ]
    },
    {
     "data": {
      "image/png": "[encoded data removed]",
      "text/plain": [
       "<Figure size 432x288 with 4 Axes>"
      ]
     },
     "metadata": {
      "needs_background": "light"
     },
     "output_type": "display_data"
    }
   ],
   "source": [
    "# Most common maintainers for each distro version\n",
    "df_bionic = df[df['Distro-Version'] == '18.04 - bionic']\n",
    "df_focal = df[df['Distro-Version'] == '20.04 - focal']\n",
    "df_jammy = df[df['Distro-Version'] == '22.04 - jammy']\n",
    "df_kinetik = df[df['Distro-Version'] == '22.10 - kinetic']\n",
    "\n",
    "# 5 most common maintainers for each distro version\n",
    "print('Most common maintainers for each distro version')\n",
    "print('Bionic: \\n', df_bionic['Original-Maintainer'].value_counts().head(5))\n",
    "print('Focal: \\n', df_focal['Original-Maintainer'].value_counts().head(5))\n",
    "print('Jammy: \\n', df_jammy['Original-Maintainer'].value_counts().head(5))\n",
    "print('Kinetik: \\n', df_kinetik['Original-Maintainer'].value_counts().head(5))\n",
    "\n",
    "# Plot 5 most common maintainers for each distro version\n",
    "plt.figure()\n",
    "plt.subplot(2,2,1)\n",
    "df_bionic['Original-Maintainer'].value_counts().head(5).plot(kind='bar')\n",
    "plt.title('Bionic')\n",
    "plt.xlabel('Original-Maintainer')\n",
    "plt.ylabel('Number of packages')\n",
    "plt.subplot(2,2,2)\n",
    "df_focal['Original-Maintainer'].value_counts().head(5).plot(kind='bar')\n",
    "plt.title('Focal')\n",
    "plt.xlabel('Original-Maintainer')\n",
    "plt.ylabel('Number of packages')\n",
    "plt.subplot(2,2,3)\n",
    "df_jammy['Original-Maintainer'].value_counts().head(5).plot(kind='bar')\n",
    "plt.title('Jammy')\n",
    "plt.xlabel('Original-Maintainer')\n",
    "plt.ylabel('Number of packages')\n",
    "plt.subplot(2,2,4)\n",
    "df_kinetik['Original-Maintainer'].value_counts().head(5).plot(kind='bar')\n",
    "plt.title('Kinetik')\n",
    "plt.xlabel('Original-Maintainer')\n",
    "plt.ylabel('Number of packages')\n",
    "plt.tight_layout()\n",
    "plt.show()"
   ]
  },
  {
   "attachments": {},
   "cell_type": "markdown",
   "metadata": {},
   "source": [
    "Now Debian leads the pack, and we have obtained a more diverse set of mantainers."
   ]
  },
  {
   "attachments": {},
   "cell_type": "markdown",
   "metadata": {},
   "source": [
    "## Mean"
   ]
  },
  {
   "attachments": {},
   "cell_type": "markdown",
   "metadata": {},
   "source": [
    "We only have one numerical column, the size of the packages, so we will do some insights on it."
   ]
  },
  {
   "cell_type": "code",
   "execution_count": 9,
   "metadata": {},
   "outputs": [
    {
     "name": "stdout",
     "output_type": "stream",
     "text": [
      "Average number of package size per distro version\n",
      "Bionic:  2996.0 Kb\n",
      "Focal:  3519.39 Kb\n",
      "Jammy:  2598.2 Kb\n",
      "Kinetik:  1962.47 Kb\n"
     ]
    },
    {
     "data": {
      "image/png": "[encoded data removed]",
      "text/plain": [
       "<Figure size 432x288 with 1 Axes>"
      ]
     },
     "metadata": {
      "needs_background": "light"
     },
     "output_type": "display_data"
    }
   ],
   "source": [
    "# Average number of package size per distro version (round to 2 decimals)\n",
    "print('Average number of package size per distro version')\n",
    "print('Bionic: ', round(df_bionic['Size'].mean()/1000, 2), 'Kb')\n",
    "print('Focal: ', round(df_focal['Size'].mean()/1000, 2), 'Kb')\n",
    "print('Jammy: ', round(df_jammy['Size'].mean()/1000, 2), 'Kb')\n",
    "print('Kinetik: ', round(df_kinetik['Size'].mean()/1000, 2), 'Kb')\n",
    "\n",
    "# Bar plot the average size of packages, each bar is a distro version\n",
    "plt.figure()\n",
    "plt.bar(df['Distro-Version'].unique(), [round(df_bionic['Size'].mean()/1000, 2), round(df_focal['Size'].mean()/1000, 2), round(df_jammy['Size'].mean()/1000, 2), round(df_kinetik['Size'].mean()/1000, 2)])\n",
    "plt.title('Average size of packages per distro version')\n",
    "plt.xlabel('Distro version')\n",
    "plt.ylabel('Average size of packages (Kylobytes)')\n",
    "plt.show()\n"
   ]
  },
  {
   "cell_type": "code",
   "execution_count": 10,
   "metadata": {},
   "outputs": [
    {
     "name": "stdout",
     "output_type": "stream",
     "text": [
      "Standard deviation of the size of packages per distro version\n",
      "Bionic:  12184.65 Kb\n",
      "Focal:  14580.51 Kb\n",
      "Jammy:  20395.34 Kb\n",
      "Kinetik:  20819.04 Kb\n"
     ]
    }
   ],
   "source": [
    "# Now we will calculate the standard deviation of the size of packages per distro version\n",
    "# we know the std is high when the value is close to the mean\n",
    "print('Standard deviation of the size of packages per distro version')\n",
    "print('Bionic: ', round(df_bionic['Size'].std()/1000, 2), 'Kb')\n",
    "print('Focal: ', round(df_focal['Size'].std()/1000, 2), 'Kb')\n",
    "print('Jammy: ', round(df_jammy['Size'].std()/1000, 2), 'Kb')\n",
    "print('Kinetik: ', round(df_kinetik['Size'].std()/1000, 2), 'Kb')\n"
   ]
  },
  {
   "attachments": {},
   "cell_type": "markdown",
   "metadata": {},
   "source": [
    "In the end, the avg size of the packages decreases over time, but the std is quite high."
   ]
  },
  {
   "cell_type": "code",
   "execution_count": 11,
   "metadata": {},
   "outputs": [
    {
     "name": "stdout",
     "output_type": "stream",
     "text": [
      "Average size of packages per distro version after removing the outliers\n",
      "Bionic:  2353.17 Kb\n",
      "Focal:  2793.46 Kb\n",
      "Jammy:  1851.06 Kb\n",
      "Kinetik:  1248.61 Kb\n"
     ]
    },
    {
     "data": {
      "image/png": "[encoded data removed]",
      "text/plain": [
       "<Figure size 432x288 with 1 Axes>"
      ]
     },
     "metadata": {
      "needs_background": "light"
     },
     "output_type": "display_data"
    }
   ],
   "source": [
    "# The mean is very sensitive to outliers, so we will remove the outliers\n",
    "bionic_mean = df_bionic['Size'].mean()\n",
    "bionic_std = df_bionic['Size'].std()\n",
    "df_bionic_new = df_bionic[(df_bionic['Size'] > bionic_mean - 3 * bionic_std) & (df_bionic['Size'] < bionic_mean + 3 * bionic_std)]\n",
    "\n",
    "focal_mean = df_focal['Size'].mean()\n",
    "focal_std = df_focal['Size'].std()\n",
    "df_focal_new = df_focal[(df_focal['Size'] > focal_mean - 3 * focal_std) & (df_focal['Size'] < focal_mean + 3 * focal_std)]\n",
    "\n",
    "jammy_mean = df_jammy['Size'].mean()\n",
    "jammy_std = df_jammy['Size'].std()\n",
    "df_jammy_new = df_jammy[(df_jammy['Size'] > jammy_mean - 3 * jammy_std) & (df_jammy['Size'] < jammy_mean + 3 * jammy_std)]\n",
    "\n",
    "kinetik_mean = df_kinetik['Size'].mean()\n",
    "kinetik_std = df_kinetik['Size'].std()\n",
    "df_kinetik_new = df_kinetik[(df_kinetik['Size'] > kinetik_mean - 3 * kinetik_std) & (df_kinetik['Size'] < kinetik_mean + 3 * kinetik_std)]\n",
    "\n",
    "# Show the average size of packages per distro version after removing the outliers\n",
    "print('Average size of packages per distro version after removing the outliers')\n",
    "print('Bionic: ', round(df_bionic_new['Size'].mean()/1000, 2), 'Kb')\n",
    "print('Focal: ', round(df_focal_new['Size'].mean()/1000, 2), 'Kb')\n",
    "print('Jammy: ', round(df_jammy_new['Size'].mean()/1000, 2), 'Kb')\n",
    "print('Kinetik: ', round(df_kinetik_new['Size'].mean()/1000, 2), 'Kb')\n",
    "\n",
    "# Bar plot the average size of packages, each bar is a distro version\n",
    "plt.figure()\n",
    "plt.bar(df['Distro-Version'].unique(), [round(df_bionic_new['Size'].mean()/1000, 2), round(df_focal_new['Size'].mean()/1000, 2), round(df_jammy_new['Size'].mean()/1000, 2), round(df_kinetik_new['Size'].mean()/1000, 2)])\n",
    "plt.title('Average size of packages per distro version after removing the outliers')\n",
    "plt.xlabel('Distro version')\n",
    "plt.ylabel('Average size of packages (Kylobytes)')\n",
    "plt.show()"
   ]
  },
  {
   "attachments": {},
   "cell_type": "markdown",
   "metadata": {},
   "source": [
    "The results are quite similar to the ones obtained with all the data, so the original approach was correct."
   ]
  },
  {
   "attachments": {},
   "cell_type": "markdown",
   "metadata": {},
   "source": [
    "## Contingency Tables"
   ]
  },
  {
   "attachments": {},
   "cell_type": "markdown",
   "metadata": {},
   "source": [
    "Given our columns, we can obtain some contingency tables to see the relations between them."
   ]
  },
  {
   "cell_type": "code",
   "execution_count": 12,
   "metadata": {},
   "outputs": [
    {
     "name": "stdout",
     "output_type": "stream",
     "text": [
      "Distro-Year       2018   2020   2022\n",
      "Distro-Version                      \n",
      "18.04 - bionic   80637      0      0\n",
      "20.04 - focal        0  78480      0\n",
      "22.04 - jammy        0      0  71556\n",
      "22.10 - kinetic      0      0  69055\n"
     ]
    }
   ],
   "source": [
    "# Relation between the Year and the Version of the distro\n",
    "contingency_table = pd.crosstab(df[\"Distro-Version\"], df[\"Distro-Year\"])\n",
    "\n",
    "print(contingency_table)"
   ]
  },
  {
   "attachments": {},
   "cell_type": "markdown",
   "metadata": {},
   "source": [
    "We can clearly see above that each version corresponds to a single year, and that the first number of the version is the year."
   ]
  },
  {
   "cell_type": "code",
   "execution_count": 13,
   "metadata": {},
   "outputs": [
    {
     "name": "stdout",
     "output_type": "stream",
     "text": [
      "Priority      extra  important  optional  required  standard\n",
      "Architecture                                                \n",
      "all           20053        100    108361        35        79\n",
      "amd64         24271        414    145803       275       337\n"
     ]
    }
   ],
   "source": [
    "# Relation between the priority and the architecture\n",
    "contingency_table = pd.crosstab(df[\"Architecture\"], df[\"Priority\"])\n",
    "\n",
    "print(contingency_table)"
   ]
  },
  {
   "attachments": {},
   "cell_type": "markdown",
   "metadata": {},
   "source": [
    "Most of the required packages are only avaliable in amd64"
   ]
  },
  {
   "cell_type": "code",
   "execution_count": 14,
   "metadata": {},
   "outputs": [
    {
     "name": "stdout",
     "output_type": "stream",
     "text": [
      "Essential             no           yes\n",
      "Priority                              \n",
      "extra      159028.363636  1.758669e+06\n",
      "important  369332.333333  3.737072e+05\n",
      "optional   554374.252747  2.995741e+06\n",
      "required             NaN  2.453816e+05\n",
      "standard   577102.000000  1.812551e+05\n"
     ]
    }
   ],
   "source": [
    "# Average size of packages for each combination of priority and essential status\n",
    "\n",
    "# group the data by priority and essential status, and calculate the average size\n",
    "grouped_data = df.groupby([\"Priority\", \"Essential\"]).mean()[\"Size\"]\n",
    "\n",
    "# create the contingency table\n",
    "contingency_table = pd.pivot_table(grouped_data.reset_index(), values=\"Size\", index=\"Priority\", columns=\"Essential\")\n",
    "\n",
    "# print the table\n",
    "print(contingency_table)"
   ]
  },
  {
   "attachments": {},
   "cell_type": "markdown",
   "metadata": {},
   "source": [
    "This table shows that the size of packages is strongly correlated with their priority and essential status. Essential packages tend to be larger than non-essential packages, and optional packages tend to be the largest packages overall. However, there are some exceptions to these trends, such as the relatively small size of extra packages.\n",
    "\n",
    "Also, another clear conclusion is that required packages are always marked as essential.\n"
   ]
  },
  {
   "attachments": {},
   "cell_type": "markdown",
   "metadata": {},
   "source": [
    "## Missing values\n",
    "Now we will identify missing values and evaluate the impact on the dataset"
   ]
  },
  {
   "cell_type": "code",
   "execution_count": 15,
   "metadata": {},
   "outputs": [
    {
     "name": "stdout",
     "output_type": "stream",
     "text": [
      "Distro-Version: 0 missing values (0.0%)\n",
      "Distro-Year: 0 missing values (0.0%)\n",
      "Package: 0 missing values (0.0%)\n",
      "Description: 0 missing values (0.0%)\n",
      "Section: 0 missing values (0.0%)\n",
      "Version: 1 missing values (0.0%)\n",
      "Architecture: 0 missing values (0.0%)\n",
      "Priority: 0 missing values (0.0%)\n",
      "Essential: 0 missing values (0.0%)\n",
      "Build-Essential: 0 missing values (0.0%)\n",
      "Maintainer: 0 missing values (0.0%)\n",
      "Original-Maintainer: 0 missing values (0.0%)\n",
      "Size: 0 missing values (0.0%)\n",
      "Installed-Size: 0 missing values (0.0%)\n",
      "Depends: 0 missing values (0.0%)\n",
      "Pre-Depends: 80 missing values (0.03%)\n",
      "Recommends: 6 missing values (0.0%)\n",
      "Conflicts: 21 missing values (0.01%)\n",
      "Suggests: 13 missing values (0.0%)\n",
      "Replaces: 25 missing values (0.01%)\n",
      "Provides: 31 missing values (0.01%)\n"
     ]
    }
   ],
   "source": [
    "columns = [\"Distro-Version\", \"Distro-Year\", \"Package\", \"Description\", \"Section\", \"Version\", \"Architecture\", \"Priority\", \"Essential\", \"Build-Essential\",\n",
    "             \"Maintainer\", \"Original-Maintainer\", \"Size\", \"Installed-Size\", \"Depends\", \"Pre-Depends\", \"Recommends\", \"Conflicts\", \"Suggests\", \"Replaces\", \"Provides\"]\n",
    "\n",
    "for column in columns:\n",
    "    missing = df[column].isna().sum()\n",
    "    print(f\"{column}: {missing} missing values ({round(missing/len(df[column])*100, 2)}%)\")"
   ]
  },
  {
   "cell_type": "code",
   "execution_count": 16,
   "metadata": {},
   "outputs": [
    {
     "data": {
      "image/png": "[encoded data removed]",
      "text/plain": [
       "<Figure size 432x288 with 1 Axes>"
      ]
     },
     "metadata": {
      "needs_background": "light"
     },
     "output_type": "display_data"
    }
   ],
   "source": [
    "# create histogram for percentage of missing values\n",
    "missing = df.isna().sum()\n",
    "missing = missing[missing > 0]\n",
    "missing = missing.sort_values(ascending=False)\n",
    "missing = missing/len(df)\n",
    "missing.plot.bar()\n",
    "plt.show()"
   ]
  },
  {
   "attachments": {},
   "cell_type": "markdown",
   "metadata": {},
   "source": [
    "We can see that there are very little missing values in the dataset, so there will be very little impact on the dataset"
   ]
  },
  {
   "cell_type": "code",
   "execution_count": 17,
   "metadata": {},
   "outputs": [
    {
     "name": "stdout",
     "output_type": "stream",
     "text": [
      "0 rows are missing all values\n"
     ]
    }
   ],
   "source": [
    "# See if there are any rows that are missing all values\n",
    "missing_rows = []\n",
    "for index, row in df.iterrows():\n",
    "    missing = True\n",
    "    for column in columns:\n",
    "        if not pd.isna(row[column]):\n",
    "            missing = False\n",
    "    if missing:\n",
    "        missing_rows.append(index)\n",
    "    \n",
    "print(f\"{len(missing_rows)} rows are missing all values\")"
   ]
  }
 ],
 "metadata": {
  "kernelspec": {
   "display_name": "base",
   "language": "python",
   "name": "python3"
  },
  "language_info": {
   "codemirror_mode": {
    "name": "ipython",
    "version": 3
   },
   "file_extension": ".py",
   "mimetype": "text/x-python",
   "name": "python",
   "nbconvert_exporter": "python",
   "pygments_lexer": "ipython3",
   "version": "3.9.12"
  },
  "orig_nbformat": 4,
  "vscode": {
   "interpreter": {
    "hash": "24b4a5161a7dbc0ca27ec4b8da98573896bbc73acee81e4a10592b94f9185a1a"
   }
  }
 },
 "nbformat": 4,
 "nbformat_minor": 2
}
