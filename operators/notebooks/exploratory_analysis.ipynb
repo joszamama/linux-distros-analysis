{
 "cells": [
  {
   "attachments": {},
   "cell_type": "markdown",
   "metadata": {},
   "source": [
    "# Exploratory Analysis: Ubuntu-Packages"
   ]
  },
  {
   "cell_type": "code",
   "execution_count": 1,
   "metadata": {},
   "outputs": [],
   "source": [
    "import pandas as pd\n",
    "import matplotlib.pyplot as plt\n",
    "import seaborn as sns\n",
    "import numpy as np\n",
    "\n",
    "df = pd.read_csv(\"../datawarehouse/processed-ubuntu-packages.csv\")\n",
    "\n",
    "# replace value Null to NaN\n",
    "df = df.replace(\"Null\", np.nan)"
   ]
  },
  {
   "attachments": {},
   "cell_type": "markdown",
   "metadata": {},
   "source": [
    "Brief look at the data"
   ]
  },
  {
   "cell_type": "code",
   "execution_count": 2,
   "metadata": {},
   "outputs": [
    {
     "name": "stdout",
     "output_type": "stream",
     "text": [
      "   Distro-Version  Distro-Year       Package  Description Section  \\\n",
      "0  18.04 - bionic         2018          acct  Description   admin   \n",
      "1  18.04 - bionic         2018           acl  Description   utils   \n",
      "2  18.04 - bionic         2018  acpi-support  Description   admin   \n",
      "3  18.04 - bionic         2018         acpid  Description   admin   \n",
      "4  18.04 - bionic         2018       adduser  Description   admin   \n",
      "\n",
      "             Version Architecture   Priority Essential Build-Essential  ...  \\\n",
      "0            6.6.4-1        amd64   optional        no              no  ...   \n",
      "1     2.2.52-3build1        amd64   optional        no              no  ...   \n",
      "2              0.142        amd64   optional        no              no  ...   \n",
      "3  1:2.0.28-1ubuntu1        amd64   optional        no              no  ...   \n",
      "4       3.116ubuntu1          all  important        no             yes  ...   \n",
      "\n",
      "  Original-Maintainer      Size  Installed-Size  \\\n",
      "0              Debian   87216.0           297.0   \n",
      "1              Anibal   38504.0           200.0   \n",
      "2                Bart   10196.0            92.0   \n",
      "3              Debian   36518.0           139.0   \n",
      "4              Debian  162684.0           624.0   \n",
      "\n",
      "                                             Depends Pre-Depends  \\\n",
      "0                          libc6 (>= 2.14), lsb-base         NaN   \n",
      "1        libacl1 (= 2.2.52-3build1), libc6 (>= 2.14)         NaN   \n",
      "2                          acpid (>= 1.0.4-1ubuntu4)         NaN   \n",
      "3  libc6 (>= 2.15), init-system-helpers (>= 1.18~...         NaN   \n",
      "4             passwd, debconf (>= 0.5) | debconf-2.0         NaN   \n",
      "\n",
      "                Recommends         Conflicts  \\\n",
      "0                      NaN               NaN   \n",
      "1                      NaN               NaN   \n",
      "2  toshset, wireless-tools  uswsusp (<= 0.2)   \n",
      "3  toshset, wireless-tools  uswsusp (<= 0.2)   \n",
      "4  toshset, wireless-tools  uswsusp (<= 0.2)   \n",
      "\n",
      "                                            Suggests Replaces Provides  \n",
      "0                                                NaN      NaN      NaN  \n",
      "1                                                NaN      NaN      NaN  \n",
      "2                                                NaN      NaN      NaN  \n",
      "3                                                NaN      NaN      NaN  \n",
      "4  liblocale-gettext-perl, perl, ecryptfs-utils (...      NaN      NaN  \n",
      "\n",
      "[5 rows x 21 columns]\n",
      "(299728, 21)\n"
     ]
    }
   ],
   "source": [
    "print(df.head())\n",
    "print(df.shape)"
   ]
  },
  {
   "cell_type": "code",
   "execution_count": 3,
   "metadata": {},
   "outputs": [
    {
     "name": "stdout",
     "output_type": "stream",
     "text": [
      "        Distro-Year          Size  Installed-Size\n",
      "count  299728.00000  2.997280e+05    2.997280e+05\n",
      "mean     2020.40019  2.799956e+06    1.036722e+04\n",
      "std         1.67108  1.717811e+07    8.584265e+04\n",
      "min      2018.00000  7.340000e+02    2.000000e+00\n",
      "25%      2018.00000  1.390600e+04    6.600000e+01\n",
      "50%      2020.00000  6.090400e+04    2.870000e+02\n",
      "75%      2022.00000  5.443205e+05    2.361000e+03\n",
      "max      2022.00000  2.873482e+09    1.388204e+07\n"
     ]
    }
   ],
   "source": [
    "print(df.describe())"
   ]
  },
  {
   "attachments": {},
   "cell_type": "markdown",
   "metadata": {},
   "source": [
    "Now we will identify missing values and evaluate the impact on the dataset"
   ]
  },
  {
   "cell_type": "code",
   "execution_count": 5,
   "metadata": {},
   "outputs": [
    {
     "name": "stdout",
     "output_type": "stream",
     "text": [
      "Distro-Version: 0 missing values (0.0%)\n",
      "Distro-Year: 0 missing values (0.0%)\n",
      "Package: 0 missing values (0.0%)\n",
      "Description: 0 missing values (0.0%)\n",
      "Section: 0 missing values (0.0%)\n",
      "Version: 1 missing values (0.0%)\n",
      "Architecture: 0 missing values (0.0%)\n",
      "Priority: 0 missing values (0.0%)\n",
      "Essential: 0 missing values (0.0%)\n",
      "Build-Essential: 0 missing values (0.0%)\n",
      "Maintainer: 0 missing values (0.0%)\n",
      "Original-Maintainer: 0 missing values (0.0%)\n",
      "Size: 0 missing values (0.0%)\n",
      "Installed-Size: 0 missing values (0.0%)\n",
      "Depends: 0 missing values (0.0%)\n",
      "Pre-Depends: 80 missing values (0.03%)\n",
      "Recommends: 6 missing values (0.0%)\n",
      "Conflicts: 21 missing values (0.01%)\n",
      "Suggests: 13 missing values (0.0%)\n",
      "Replaces: 25 missing values (0.01%)\n",
      "Provides: 31 missing values (0.01%)\n"
     ]
    }
   ],
   "source": [
    "columns = [\"Distro-Version\", \"Distro-Year\", \"Package\", \"Description\", \"Section\", \"Version\", \"Architecture\", \"Priority\", \"Essential\", \"Build-Essential\",\n",
    "             \"Maintainer\", \"Original-Maintainer\", \"Size\", \"Installed-Size\", \"Depends\", \"Pre-Depends\", \"Recommends\", \"Conflicts\", \"Suggests\", \"Replaces\", \"Provides\"]\n",
    "\n",
    "for column in columns:\n",
    "    missing = df[column].isna().sum()\n",
    "    print(f\"{column}: {missing} missing values ({round(missing/len(df[column])*100, 2)}%)\")"
   ]
  },
  {
   "cell_type": "code",
   "execution_count": 12,
   "metadata": {},
   "outputs": [
    {
     "data": {
      "image/png": "[encoded data removed]",
      "text/plain": [
       "<Figure size 432x288 with 1 Axes>"
      ]
     },
     "metadata": {
      "needs_background": "light"
     },
     "output_type": "display_data"
    }
   ],
   "source": [
    "# create histogram for percentage of missing values\n",
    "missing = df.isna().sum()\n",
    "missing = missing[missing > 0]\n",
    "missing = missing.sort_values(ascending=False)\n",
    "missing = missing/len(df)\n",
    "missing.plot.bar()\n",
    "plt.show()"
   ]
  },
  {
   "attachments": {},
   "cell_type": "markdown",
   "metadata": {},
   "source": [
    "We can see that there are very little missing values in the dataset, so there will be very little impact on the dataset"
   ]
  },
  {
   "cell_type": "code",
   "execution_count": 6,
   "metadata": {},
   "outputs": [
    {
     "name": "stdout",
     "output_type": "stream",
     "text": [
      "0 rows are missing all values\n"
     ]
    }
   ],
   "source": [
    "# See if there are any rows that are missing all values\n",
    "missing_rows = []\n",
    "for index, row in df.iterrows():\n",
    "    missing = True\n",
    "    for column in columns:\n",
    "        if not pd.isna(row[column]):\n",
    "            missing = False\n",
    "    if missing:\n",
    "        missing_rows.append(index)\n",
    "    \n",
    "print(f\"{len(missing_rows)} rows are missing all values\")"
   ]
  }
 ],
 "metadata": {
  "kernelspec": {
   "display_name": "Python 3",
   "language": "python",
   "name": "python3"
  },
  "language_info": {
   "codemirror_mode": {
    "name": "ipython",
    "version": 3
   },
   "file_extension": ".py",
   "mimetype": "text/x-python",
   "name": "python",
   "nbconvert_exporter": "python",
   "pygments_lexer": "ipython3",
   "version": "3.11.1"
  },
  "orig_nbformat": 4,
  "vscode": {
   "interpreter": {
    "hash": "971b0a2461fa6366bef3d0a0f6b059f46377dd8de44467863864d714310d4964"
   }
  }
 },
 "nbformat": 4,
 "nbformat_minor": 2
}
