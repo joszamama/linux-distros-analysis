{
 "cells": [
  {
   "attachments": {},
   "cell_type": "markdown",
   "metadata": {},
   "source": [
    "## Pregunta: T1 - ¿Tiende a crecer el tamaño de las distribuciones a lo largo del tiempo?"
   ]
  },
  {
   "attachments": {},
   "cell_type": "markdown",
   "metadata": {},
   "source": [
    "### 1. Importaciones"
   ]
  },
  {
   "cell_type": "code",
   "execution_count": 1,
   "metadata": {},
   "outputs": [],
   "source": [
    "import pandas as pd\n",
    "import numpy as np\n",
    "import seaborn as sns\n",
    "import matplotlib.pyplot as plt\n",
    "\n",
    "from sklearn.linear_model import LinearRegression\n",
    "from sklearn.metrics import mean_squared_error, r2_score\n",
    "from scipy import stats\n",
    "import statsmodels.api as sm\n",
    "\n",
    "from IPython.display import display, Markdown"
   ]
  },
  {
   "attachments": {},
   "cell_type": "markdown",
   "metadata": {},
   "source": [
    "### 2. Lectura"
   ]
  },
  {
   "cell_type": "code",
   "execution_count": 2,
   "metadata": {},
   "outputs": [],
   "source": [
    "df = pd.read_csv(\"../../datawarehouse/processed-ubuntu-packages.csv\")"
   ]
  },
  {
   "attachments": {},
   "cell_type": "markdown",
   "metadata": {},
   "source": [
    "### 3. Preprocesado"
   ]
  },
  {
   "cell_type": "code",
   "execution_count": 3,
   "metadata": {},
   "outputs": [
    {
     "data": {
      "text/html": [
       "<div>\n",
       "<style scoped>\n",
       "    .dataframe tbody tr th:only-of-type {\n",
       "        vertical-align: middle;\n",
       "    }\n",
       "\n",
       "    .dataframe tbody tr th {\n",
       "        vertical-align: top;\n",
       "    }\n",
       "\n",
       "    .dataframe thead th {\n",
       "        text-align: right;\n",
       "    }\n",
       "</style>\n",
       "<table border=\"1\" class=\"dataframe\">\n",
       "  <thead>\n",
       "    <tr style=\"text-align: right;\">\n",
       "      <th></th>\n",
       "      <th>Distro-Version</th>\n",
       "      <th>Distro-Year</th>\n",
       "      <th>Package</th>\n",
       "      <th>Description</th>\n",
       "      <th>Section</th>\n",
       "      <th>Version</th>\n",
       "      <th>Architecture</th>\n",
       "      <th>Priority</th>\n",
       "      <th>Essential</th>\n",
       "      <th>Build-Essential</th>\n",
       "      <th>...</th>\n",
       "      <th>Original-Maintainer</th>\n",
       "      <th>Size</th>\n",
       "      <th>Installed-Size</th>\n",
       "      <th>Depends</th>\n",
       "      <th>Pre-Depends</th>\n",
       "      <th>Recommends</th>\n",
       "      <th>Conflicts</th>\n",
       "      <th>Suggests</th>\n",
       "      <th>Replaces</th>\n",
       "      <th>Provides</th>\n",
       "    </tr>\n",
       "  </thead>\n",
       "  <tbody>\n",
       "    <tr>\n",
       "      <th>4</th>\n",
       "      <td>18.04 - bionic</td>\n",
       "      <td>2018</td>\n",
       "      <td>adduser</td>\n",
       "      <td>Description</td>\n",
       "      <td>admin</td>\n",
       "      <td>3.116ubuntu1</td>\n",
       "      <td>all</td>\n",
       "      <td>important</td>\n",
       "      <td>no</td>\n",
       "      <td>yes</td>\n",
       "      <td>...</td>\n",
       "      <td>Debian</td>\n",
       "      <td>162684.0</td>\n",
       "      <td>624.0</td>\n",
       "      <td>passwd, debconf (&gt;= 0.5) | debconf-2.0</td>\n",
       "      <td>NaN</td>\n",
       "      <td>toshset, wireless-tools</td>\n",
       "      <td>uswsusp (&lt;= 0.2)</td>\n",
       "      <td>liblocale-gettext-perl, perl, ecryptfs-utils (...</td>\n",
       "      <td>NaN</td>\n",
       "      <td>NaN</td>\n",
       "    </tr>\n",
       "    <tr>\n",
       "      <th>37</th>\n",
       "      <td>18.04 - bionic</td>\n",
       "      <td>2018</td>\n",
       "      <td>base-passwd</td>\n",
       "      <td>Description</td>\n",
       "      <td>admin</td>\n",
       "      <td>3.5.44</td>\n",
       "      <td>amd64</td>\n",
       "      <td>required</td>\n",
       "      <td>yes</td>\n",
       "      <td>yes</td>\n",
       "      <td>...</td>\n",
       "      <td>Debian</td>\n",
       "      <td>47236.0</td>\n",
       "      <td>228.0</td>\n",
       "      <td>libc6 (&gt;= 2.8), libdebconfclient0 (&gt;= 0.145)</td>\n",
       "      <td>NaN</td>\n",
       "      <td>debconf (&gt;= 0.5) | debconf-2.0</td>\n",
       "      <td>libfile-rsyncp-perl (&lt;&lt; 0.68)</td>\n",
       "      <td>w3m | www-browser, par2</td>\n",
       "      <td>base</td>\n",
       "      <td>automake-1.15, automaken</td>\n",
       "    </tr>\n",
       "    <tr>\n",
       "      <th>76</th>\n",
       "      <td>18.04 - bionic</td>\n",
       "      <td>2018</td>\n",
       "      <td>coreutils</td>\n",
       "      <td>Description</td>\n",
       "      <td>utils</td>\n",
       "      <td>8.28-1ubuntu1</td>\n",
       "      <td>amd64</td>\n",
       "      <td>required</td>\n",
       "      <td>yes</td>\n",
       "      <td>yes</td>\n",
       "      <td>...</td>\n",
       "      <td>Michael</td>\n",
       "      <td>1230832.0</td>\n",
       "      <td>6560.0</td>\n",
       "      <td>libc6 (&gt;= 2.14), libmnl0 (&gt;= 1.0.3-4~), libnet...</td>\n",
       "      <td>libacl1 (&gt;= 2.2.51-8), libattr1 (&gt;= 1:2.4.46-8...</td>\n",
       "      <td>distro-info</td>\n",
       "      <td>lockfile-progs (&lt;&lt; 0.1.7)</td>\n",
       "      <td>colord-sensor-argyll</td>\n",
       "      <td>colord (&lt;&lt; 1.2.0-2)</td>\n",
       "      <td>debconf-2.0</td>\n",
       "    </tr>\n",
       "    <tr>\n",
       "      <th>86</th>\n",
       "      <td>18.04 - bionic</td>\n",
       "      <td>2018</td>\n",
       "      <td>dash</td>\n",
       "      <td>Description</td>\n",
       "      <td>shells</td>\n",
       "      <td>0.5.8-2.10</td>\n",
       "      <td>amd64</td>\n",
       "      <td>required</td>\n",
       "      <td>yes</td>\n",
       "      <td>yes</td>\n",
       "      <td>...</td>\n",
       "      <td>Gerrit</td>\n",
       "      <td>88544.0</td>\n",
       "      <td>214.0</td>\n",
       "      <td>debianutils (&gt;= 2.15), dpkg (&gt;= 1.15.0)</td>\n",
       "      <td>libc6 (&gt;= 2.14)</td>\n",
       "      <td>wamerican | wordlist</td>\n",
       "      <td>qemu-kvm (&lt;&lt; 0.12.3-0ubuntu13)</td>\n",
       "      <td>colord-sensor-argyll</td>\n",
       "      <td>qemu-kvm (&lt;&lt; 0.12.3-0ubuntu13)</td>\n",
       "      <td>debconf-2.0</td>\n",
       "    </tr>\n",
       "    <tr>\n",
       "      <th>96</th>\n",
       "      <td>18.04 - bionic</td>\n",
       "      <td>2018</td>\n",
       "      <td>debianutils</td>\n",
       "      <td>Description</td>\n",
       "      <td>utils</td>\n",
       "      <td>4.8.4</td>\n",
       "      <td>amd64</td>\n",
       "      <td>required</td>\n",
       "      <td>yes</td>\n",
       "      <td>yes</td>\n",
       "      <td>...</td>\n",
       "      <td>Clint</td>\n",
       "      <td>85672.0</td>\n",
       "      <td>212.0</td>\n",
       "      <td>libc6 (&gt;= 2.14)</td>\n",
       "      <td>libc6 (&gt;= 2.15)</td>\n",
       "      <td>apt, curl, dctrl-tools, elfutils, libipc-syste...</td>\n",
       "      <td>bikeshed, debget</td>\n",
       "      <td>apt-file, konqueror, libgnome2-bin, lsb-releas...</td>\n",
       "      <td>bikeshed, debget</td>\n",
       "      <td>grep-dctrl</td>\n",
       "    </tr>\n",
       "  </tbody>\n",
       "</table>\n",
       "<p>5 rows × 21 columns</p>\n",
       "</div>"
      ],
      "text/plain": [
       "    Distro-Version  Distro-Year      Package  Description Section  \\\n",
       "4   18.04 - bionic         2018      adduser  Description   admin   \n",
       "37  18.04 - bionic         2018  base-passwd  Description   admin   \n",
       "76  18.04 - bionic         2018    coreutils  Description   utils   \n",
       "86  18.04 - bionic         2018         dash  Description  shells   \n",
       "96  18.04 - bionic         2018  debianutils  Description   utils   \n",
       "\n",
       "          Version Architecture   Priority Essential Build-Essential  ...  \\\n",
       "4    3.116ubuntu1          all  important        no             yes  ...   \n",
       "37         3.5.44        amd64   required       yes             yes  ...   \n",
       "76  8.28-1ubuntu1        amd64   required       yes             yes  ...   \n",
       "86     0.5.8-2.10        amd64   required       yes             yes  ...   \n",
       "96          4.8.4        amd64   required       yes             yes  ...   \n",
       "\n",
       "   Original-Maintainer       Size  Installed-Size  \\\n",
       "4               Debian   162684.0           624.0   \n",
       "37              Debian    47236.0           228.0   \n",
       "76             Michael  1230832.0          6560.0   \n",
       "86              Gerrit    88544.0           214.0   \n",
       "96               Clint    85672.0           212.0   \n",
       "\n",
       "                                              Depends  \\\n",
       "4              passwd, debconf (>= 0.5) | debconf-2.0   \n",
       "37       libc6 (>= 2.8), libdebconfclient0 (>= 0.145)   \n",
       "76  libc6 (>= 2.14), libmnl0 (>= 1.0.3-4~), libnet...   \n",
       "86            debianutils (>= 2.15), dpkg (>= 1.15.0)   \n",
       "96                                    libc6 (>= 2.14)   \n",
       "\n",
       "                                          Pre-Depends  \\\n",
       "4                                                 NaN   \n",
       "37                                                NaN   \n",
       "76  libacl1 (>= 2.2.51-8), libattr1 (>= 1:2.4.46-8...   \n",
       "86                                    libc6 (>= 2.14)   \n",
       "96                                    libc6 (>= 2.15)   \n",
       "\n",
       "                                           Recommends  \\\n",
       "4                             toshset, wireless-tools   \n",
       "37                     debconf (>= 0.5) | debconf-2.0   \n",
       "76                                        distro-info   \n",
       "86                               wamerican | wordlist   \n",
       "96  apt, curl, dctrl-tools, elfutils, libipc-syste...   \n",
       "\n",
       "                         Conflicts  \\\n",
       "4                 uswsusp (<= 0.2)   \n",
       "37   libfile-rsyncp-perl (<< 0.68)   \n",
       "76       lockfile-progs (<< 0.1.7)   \n",
       "86  qemu-kvm (<< 0.12.3-0ubuntu13)   \n",
       "96                bikeshed, debget   \n",
       "\n",
       "                                             Suggests  \\\n",
       "4   liblocale-gettext-perl, perl, ecryptfs-utils (...   \n",
       "37                            w3m | www-browser, par2   \n",
       "76                               colord-sensor-argyll   \n",
       "86                               colord-sensor-argyll   \n",
       "96  apt-file, konqueror, libgnome2-bin, lsb-releas...   \n",
       "\n",
       "                          Replaces                  Provides  \n",
       "4                              NaN                       NaN  \n",
       "37                            base  automake-1.15, automaken  \n",
       "76             colord (<< 1.2.0-2)               debconf-2.0  \n",
       "86  qemu-kvm (<< 0.12.3-0ubuntu13)               debconf-2.0  \n",
       "96                bikeshed, debget                grep-dctrl  \n",
       "\n",
       "[5 rows x 21 columns]"
      ]
     },
     "execution_count": 3,
     "metadata": {},
     "output_type": "execute_result"
    }
   ],
   "source": [
    "# only get where priority is important or required\n",
    "df = df[df['Priority'].isin(['important', 'required'])]\n",
    "\n",
    "# print head of dataframe\n",
    "df.head()"
   ]
  },
  {
   "attachments": {},
   "cell_type": "markdown",
   "metadata": {},
   "source": [
    "### 4. Análisis de series de tiempo\n"
   ]
  },
  {
   "cell_type": "code",
   "execution_count": 4,
   "metadata": {},
   "outputs": [
    {
     "data": {
      "image/png": "[encoded data removed]",
      "text/plain": [
       "<Figure size 640x480 with 4 Axes>"
      ]
     },
     "metadata": {},
     "output_type": "display_data"
    }
   ],
   "source": [
    "# Usaremos un análisis de series de tiempo para modelar la evolución del tamaño de las distribuciones a lo largo del tiempo\n",
    "\n",
    "# Convierte la columna 'Distro-Year' en un objeto de fecha\n",
    "df['Distro-Year'] = pd.to_datetime(df['Distro-Year'], format='%Y')\n",
    "\n",
    "# Establece la columna 'Distro-Year' como el índice del DataFrame\n",
    "df.set_index('Distro-Year', inplace=True)\n",
    "\n",
    "# Ordena el índice en orden cronológico\n",
    "df.sort_index(inplace=True)\n",
    "\n",
    "# Crea una nueva columna para el tamaño de la distribución\n",
    "df['Size_in_MB'] = df['Size'] / 1024 / 1024\n",
    "\n",
    "# Crea una serie de tiempo con la columna 'Size_in_MB'\n",
    "ts = df['Size_in_MB']\n",
    "\n",
    "# Descomposición de la serie de tiempo\n",
    "decomposition = sm.tsa.seasonal_decompose(ts, model='additive', period=12)\n",
    "\n",
    "# Grafica la descomposición de la serie de tiempo\n",
    "fig = decomposition.plot()"
   ]
  },
  {
   "attachments": {},
   "cell_type": "markdown",
   "metadata": {},
   "source": [
    "### 5. Regresión lineal\n"
   ]
  },
  {
   "cell_type": "code",
   "execution_count": 5,
   "metadata": {},
   "outputs": [
    {
     "name": "stdout",
     "output_type": "stream",
     "text": [
      "Regression coefficient: 19.64\n",
      "P-value: 0.26\n"
     ]
    },
    {
     "data": {
      "text/markdown": [
       "Regression coefficient: 19.64 <span style='color:green;font-size:30px'>&#10004;</span> \n",
       " The size of the distribution is increasing over time."
      ],
      "text/plain": [
       "<IPython.core.display.Markdown object>"
      ]
     },
     "metadata": {},
     "output_type": "display_data"
    }
   ],
   "source": [
    "# Al realizar el análisis de series de tiempo hemos visto que no nos sirve de mucho, ya que solo tenemos info de los paquetes en 4 instantes de tiempo en nuestro csv\n",
    "# Por ello, y viendo que tenemos una gráfica algo dispar, usaremos una regresión lineal para modelar la relación entre el tamaño de la distribución y el año. \n",
    "# Si el coeficiente de regresión es positivo, entonces hay una tendencia creciente en el tamaño de la distribución a lo largo del tiempo\n",
    "\n",
    "# Read in the data and preprocess it\n",
    "df = pd.read_csv(\"../../datawarehouse/processed-ubuntu-packages.csv\")\n",
    "df = df.replace(\"Null\", np.nan)\n",
    "df = df[df['Priority'].isin(['important', 'required'])]\n",
    "\n",
    "# Add a column for package size in MB\n",
    "df['SizeKB'] = df['Size'] / 1024\n",
    "\n",
    "# Fit a linear regression model to the data\n",
    "reg = LinearRegression().fit(df[['Distro-Year']], df['SizeKB'])\n",
    "\n",
    "# Compute the p-value, R-squared, and RMSE\n",
    "y_pred = reg.predict(df[['Distro-Year']])\n",
    "slope, intercept, r_value, p_value, std_err = stats.linregress(df['Distro-Year'], df['SizeKB'])\n",
    "r2 = r_value ** 2\n",
    "rmse = np.sqrt(mean_squared_error(df['SizeKB'], y_pred))\n",
    "\n",
    "# Print the regression coefficient, p-value\n",
    "coef = reg.coef_[0]\n",
    "print(f\"Regression coefficient: {coef:.2f}\")\n",
    "print(f\"P-value: {float(p_value):.2f}\")\n",
    "\n",
    "\n",
    "# Create the tick text\n",
    "if coef > 0:\n",
    "    tick_text = \"<span style='color:green;font-size:30px'>&#10004;</span> \\n The size of the distribution is increasing over time.\"\n",
    "else:\n",
    "    tick_text = \"<span style='color:red;font-size:30px;line-height:0.5'>&#10006;</span> \\n The size of the distribution is decreasing over time.\"\n",
    "\n",
    "# Print the regression coefficient and the tick text\n",
    "display(Markdown(f\"Regression coefficient: {coef:.2f} {tick_text}\"))"
   ]
  },
  {
   "attachments": {},
   "cell_type": "markdown",
   "metadata": {},
   "source": [
    "El coeficiente de regresión indica que hay un aumento promedio de 19.64 KB en el tamaño de los paquetes por cada unidad adicional de tiempo en el eje x, que hablando de tamaño de paquetes es bastante.\n",
    "\n",
    "El valor de p-value de 0.26 indica que la relación entre el tamaño de los paquetes y el tiempo no es estadísticamente significativa. Esto significa que no podemos rechazar la hipótesis nula de que el coeficiente de regresión es igual a cero y que la variación en el tamaño de los paquetes no está relacionada con el tiempo."
   ]
  }
 ],
 "metadata": {
  "kernelspec": {
   "display_name": "Python 3",
   "language": "python",
   "name": "python3"
  },
  "language_info": {
   "codemirror_mode": {
    "name": "ipython",
    "version": 3
   },
   "file_extension": ".py",
   "mimetype": "text/x-python",
   "name": "python",
   "nbconvert_exporter": "python",
   "pygments_lexer": "ipython3",
   "version": "3.11.1 (tags/v3.11.1:a7a450f, Dec  6 2022, 19:58:39) [MSC v.1934 64 bit (AMD64)]"
  },
  "orig_nbformat": 4,
  "vscode": {
   "interpreter": {
    "hash": "0f07422c8c9e1a5686c084496b2f8305ae3e8042acf2136c1600afab83cd5077"
   }
  }
 },
 "nbformat": 4,
 "nbformat_minor": 2
}
