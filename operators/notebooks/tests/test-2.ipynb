{
 "cells": [
  {
   "attachments": {},
   "cell_type": "markdown",
   "metadata": {},
   "source": [
    "## Pregunta: T2 - ¿Es normal que aumente el número de dependencias de un paquete respecto al tiempo? Correlación entre el número de versión y el número de dependencias"
   ]
  },
  {
   "attachments": {},
   "cell_type": "markdown",
   "metadata": {},
   "source": [
    "### 1. Importaciones"
   ]
  },
  {
   "cell_type": "code",
   "execution_count": 1,
   "metadata": {},
   "outputs": [],
   "source": [
    "import pandas as pd\n",
    "import numpy as np\n",
    "import seaborn as sns\n",
    "import matplotlib.pyplot as plt\n",
    "\n",
    "from sklearn.linear_model import LinearRegression\n",
    "from sklearn.metrics import mean_squared_error, r2_score\n",
    "from scipy import stats\n",
    "import statsmodels.api as sm\n",
    "\n",
    "from IPython.display import display, Markdown"
   ]
  },
  {
   "attachments": {},
   "cell_type": "markdown",
   "metadata": {},
   "source": [
    "### 2. Lectura"
   ]
  },
  {
   "cell_type": "code",
   "execution_count": 2,
   "metadata": {},
   "outputs": [],
   "source": [
    "df = pd.read_csv(\"../../datawarehouse/processed-ubuntu-packages.csv\")"
   ]
  },
  {
   "attachments": {},
   "cell_type": "markdown",
   "metadata": {},
   "source": [
    "### 3. Preprocesado"
   ]
  },
  {
   "cell_type": "code",
   "execution_count": 5,
   "metadata": {},
   "outputs": [
    {
     "data": {
      "text/html": [
       "<div>\n",
       "<style scoped>\n",
       "    .dataframe tbody tr th:only-of-type {\n",
       "        vertical-align: middle;\n",
       "    }\n",
       "\n",
       "    .dataframe tbody tr th {\n",
       "        vertical-align: top;\n",
       "    }\n",
       "\n",
       "    .dataframe thead th {\n",
       "        text-align: right;\n",
       "    }\n",
       "</style>\n",
       "<table border=\"1\" class=\"dataframe\">\n",
       "  <thead>\n",
       "    <tr style=\"text-align: right;\">\n",
       "      <th></th>\n",
       "      <th>Distro-Version</th>\n",
       "      <th>Package</th>\n",
       "      <th>Depends</th>\n",
       "      <th>Num_Depends</th>\n",
       "    </tr>\n",
       "  </thead>\n",
       "  <tbody>\n",
       "    <tr>\n",
       "      <th>0</th>\n",
       "      <td>18.04 - bionic</td>\n",
       "      <td>acct</td>\n",
       "      <td>[['libc6 (&gt;= 2.14)',  ' lsb-base']]</td>\n",
       "      <td>2</td>\n",
       "    </tr>\n",
       "    <tr>\n",
       "      <th>1</th>\n",
       "      <td>18.04 - bionic</td>\n",
       "      <td>acl</td>\n",
       "      <td>[['libacl1 (= 2.2.52-3build1)',  ' libc6 (&gt;= 2...</td>\n",
       "      <td>2</td>\n",
       "    </tr>\n",
       "    <tr>\n",
       "      <th>2</th>\n",
       "      <td>18.04 - bionic</td>\n",
       "      <td>acpi-support</td>\n",
       "      <td>[['acpid (&gt;= 1.0.4-1ubuntu4)']]</td>\n",
       "      <td>1</td>\n",
       "    </tr>\n",
       "    <tr>\n",
       "      <th>3</th>\n",
       "      <td>18.04 - bionic</td>\n",
       "      <td>acpid</td>\n",
       "      <td>[['libc6 (&gt;= 2.15)',  ' init-system-helpers (&gt;...</td>\n",
       "      <td>4</td>\n",
       "    </tr>\n",
       "    <tr>\n",
       "      <th>4</th>\n",
       "      <td>18.04 - bionic</td>\n",
       "      <td>adduser</td>\n",
       "      <td>[['passwd',  ' debconf (&gt;= 0.5) | debconf-2.0']]</td>\n",
       "      <td>2</td>\n",
       "    </tr>\n",
       "  </tbody>\n",
       "</table>\n",
       "</div>"
      ],
      "text/plain": [
       "   Distro-Version       Package  \\\n",
       "0  18.04 - bionic          acct   \n",
       "1  18.04 - bionic           acl   \n",
       "2  18.04 - bionic  acpi-support   \n",
       "3  18.04 - bionic         acpid   \n",
       "4  18.04 - bionic       adduser   \n",
       "\n",
       "                                             Depends  Num_Depends  \n",
       "0                [['libc6 (>= 2.14)',  ' lsb-base']]            2  \n",
       "1  [['libacl1 (= 2.2.52-3build1)',  ' libc6 (>= 2...            2  \n",
       "2                    [['acpid (>= 1.0.4-1ubuntu4)']]            1  \n",
       "3  [['libc6 (>= 2.15)',  ' init-system-helpers (>...            4  \n",
       "4   [['passwd',  ' debconf (>= 0.5) | debconf-2.0']]            2  "
      ]
     },
     "execution_count": 5,
     "metadata": {},
     "output_type": "execute_result"
    }
   ],
   "source": [
    "# Obtener unicamente Distro-Version, Package y Depends\n",
    "df = df[[\"Distro-Version\", \"Package\", \"Depends\"]]\n",
    "\n",
    "# Convertimos Depends a lista\n",
    "df['Depends'] = df['Depends'].apply(lambda x: str(x).split(','))\n",
    "\n",
    "# Calculamos el número de dependencias de cada paquete y agregarlo como una nueva columna al dataframe\n",
    "df['Num_Depends'] = df['Depends'].apply(lambda x: len(x))\n",
    "\n",
    "df.head()"
   ]
  },
  {
   "attachments": {},
   "cell_type": "markdown",
   "metadata": {},
   "source": [
    "### 4. Análisis"
   ]
  },
  {
   "cell_type": "code",
   "execution_count": 14,
   "metadata": {},
   "outputs": [
    {
     "data": {
      "image/png": "[encoded data removed]",
      "text/plain": [
       "<Figure size 432x288 with 1 Axes>"
      ]
     },
     "metadata": {
      "needs_background": "light"
     },
     "output_type": "display_data"
    }
   ],
   "source": [
    "# Agrupamos los datos por versión y calculamos la media del número de dependencias para cada versión\n",
    "grouped = df.groupby('Distro-Version')['Num_Depends'].mean()\n",
    "\n",
    "plt.scatter(grouped.index, grouped.values)\n",
    "plt.show()"
   ]
  },
  {
   "attachments": {},
   "cell_type": "markdown",
   "metadata": {},
   "source": [
    "Como podemos comprobar en la gráfica, el número de dependencias aumenta ligeramente pero sigue siendo un número entre 4 y 5. Comprobemos ahora la correlación entre las versiones y el número de dependencias."
   ]
  },
  {
   "cell_type": "code",
   "execution_count": 16,
   "metadata": {},
   "outputs": [
    {
     "data": {
      "text/plain": [
       "(0.8767942989922227, 0.12320570100777728)"
      ]
     },
     "execution_count": 16,
     "metadata": {},
     "output_type": "execute_result"
    }
   ],
   "source": [
    "# Importar pearsonr\n",
    "from scipy.stats import pearsonr\n",
    "\n",
    "# Asignar un número a cada versión\n",
    "version_numbers = {}\n",
    "for i, version in enumerate(grouped.index):\n",
    "    version_numbers[version] = i\n",
    "    \n",
    "# Crear una nueva serie de valores numéricos para las versiones\n",
    "version_values = [version_numbers[version] for version in grouped.index]\n",
    "\n",
    "# Calcular la correlación entre la serie de valores numéricos de las versiones y la serie de valores numéricos del número de dependencias\n",
    "stats.pearsonr(version_values, grouped.values)\n"
   ]
  },
  {
   "attachments": {},
   "cell_type": "markdown",
   "metadata": {},
   "source": [
    "El resultado de la función stats.pearsonr() es una tupla que contiene dos valores: el coeficiente de correlación de Pearson y el valor p asociado.\n",
    "\n",
    "El coeficiente de correlación de Pearson es un número entre -1 y 1 que indica la fuerza y la dirección de la relación lineal entre dos variables. En este caso, el valor de 0.8767942989922227 indica una correlación positiva fuerte entre el número de versión de la distribución y el número medio de dependencias.\n",
    "\n",
    "El valor p asociado es la probabilidad de que se observe un coeficiente de correlación de Pearson igual o mayor que el observado si la verdadera correlación entre las dos variables es cero (es decir, si las dos variables no están relacionadas). En este caso, el valor de 0.12320570100777728 indica que no hay suficiente evidencia para rechazar la hipótesis nula de que la verdadera correlación entre las dos variables es cero. Esto significa que la correlación observada podría ser debida al azar y no necesariamente refleja una verdadera relación entre las dos variables."
   ]
  },
  {
   "attachments": {},
   "cell_type": "markdown",
   "metadata": {},
   "source": [
    "### Análisis de varianza Anova\n",
    "\n",
    "El test que se utiliza para comparar la media de múltiples grupos de datos es llamado análisis de varianza (ANOVA). En particular, el ANOVA unidireccional es el que se utiliza para comparar la media de varios grupos independientes.\n",
    "\n",
    "En Python, la función scipy.stats.f_oneway() realiza un ANOVA unidireccional y devuelve el valor del estadístico F y el valor p asociado. Si el valor p es menor que el nivel de significancia predefinido, se rechaza la hipótesis nula de que todas las medias son iguales y se concluye que al menos una de las medias es diferente de las demás."
   ]
  },
  {
   "cell_type": "code",
   "execution_count": 17,
   "metadata": {},
   "outputs": [
    {
     "name": "stdout",
     "output_type": "stream",
     "text": [
      "F-statistic: 119.11784473362188\n",
      "p-value: 4.2396522968956445e-77\n"
     ]
    }
   ],
   "source": [
    "from scipy.stats import f_oneway\n",
    "\n",
    "# Obtener los datos de cada grupo\n",
    "data_bionic = df[df['Distro-Version'] == '18.04 - bionic']['Num_Depends']\n",
    "data_focal = df[df['Distro-Version'] == '20.04 - focal']['Num_Depends']\n",
    "data_jammy = df[df['Distro-Version'] == '22.04 - jammy']['Num_Depends']\n",
    "data_kinetic = df[df['Distro-Version'] == '22.10 - kinetic']['Num_Depends']\n",
    "\n",
    "# Realizar el test ANOVA\n",
    "f_stat, p_value = f_oneway(data_bionic, data_focal, data_jammy, data_kinetic)\n",
    "\n",
    "# Imprimir el resultado\n",
    "print(\"F-statistic:\", f_stat)\n",
    "print(\"p-value:\", p_value)\n"
   ]
  },
  {
   "attachments": {},
   "cell_type": "markdown",
   "metadata": {},
   "source": [
    "El F-statistic es bastante grande (119.11784473362188) y el p-value es extremadamente pequeño (4.2396522968956445e-77). Esto sugiere que hay una gran diferencia entre las medias de los grupos y que esta diferencia es muy poco probable que se deba al azar. Por lo tanto, se puede concluir que hay una diferencia significativa entre al menos dos de los grupos y se puede proceder a realizar pruebas post-hoc para determinar cuáles son los grupos que difieren significativamente."
   ]
  },
  {
   "attachments": {},
   "cell_type": "markdown",
   "metadata": {},
   "source": [
    "### Prueba post-hoc de Tukey\n",
    "\n",
    "La prueba post-hoc de Tukey es una prueba de comparación múltiple que se utiliza para determinar cuáles de los grupos son diferentes entre sí. En este caso, se utilizará para determinar cuáles de los grupos de distribuciones tienen una media diferente en el número de dependencias."
   ]
  },
  {
   "cell_type": "code",
   "execution_count": 18,
   "metadata": {},
   "outputs": [
    {
     "name": "stdout",
     "output_type": "stream",
     "text": [
      "      Multiple Comparison of Means - Tukey HSD, FWER=0.05       \n",
      "================================================================\n",
      "    group1          group2     meandiff p-adj lower upper reject\n",
      "----------------------------------------------------------------\n",
      "18.04 - bionic   20.04 - focal  -0.0777   nan   nan   nan  False\n",
      "18.04 - bionic   22.04 - jammy    0.332   nan   nan   nan  False\n",
      "18.04 - bionic 22.10 - kinetic   0.4046   nan   nan   nan  False\n",
      " 20.04 - focal   22.04 - jammy   0.4097   nan   nan   nan  False\n",
      " 20.04 - focal 22.10 - kinetic   0.4823   nan   nan   nan  False\n",
      " 22.04 - jammy 22.10 - kinetic   0.0726   nan   nan   nan  False\n",
      "----------------------------------------------------------------\n"
     ]
    },
    {
     "name": "stderr",
     "output_type": "stream",
     "text": [
      "/Users/carlos/opt/anaconda3/lib/python3.9/site-packages/numpy/core/fromnumeric.py:3723: RuntimeWarning: Degrees of freedom <= 0 for slice\n",
      "  return _methods._var(a, axis=axis, dtype=dtype, out=out, ddof=ddof,\n",
      "/Users/carlos/opt/anaconda3/lib/python3.9/site-packages/numpy/core/_methods.py:254: RuntimeWarning: invalid value encountered in double_scalars\n",
      "  ret = ret.dtype.type(ret / rcount)\n"
     ]
    }
   ],
   "source": [
    "from statsmodels.stats.multicomp import pairwise_tukeyhsd\n",
    "tukey_results = pairwise_tukeyhsd(grouped.values, grouped.index)\n",
    "print(tukey_results)"
   ]
  },
  {
   "attachments": {},
   "cell_type": "markdown",
   "metadata": {},
   "source": [
    "En este caso, la columna \"reject\" indica si se rechaza o no la hipótesis nula de que las medias de los grupos comparados son iguales. Si \"reject\" es \"True\", significa que hay una diferencia significativa entre las medias de los grupos correspondientes, mientras que si es \"False\", significa que no hay una diferencia significativa."
   ]
  }
 ],
 "metadata": {
  "kernelspec": {
   "display_name": "base",
   "language": "python",
   "name": "python3"
  },
  "language_info": {
   "codemirror_mode": {
    "name": "ipython",
    "version": 3
   },
   "file_extension": ".py",
   "mimetype": "text/x-python",
   "name": "python",
   "nbconvert_exporter": "python",
   "pygments_lexer": "ipython3",
   "version": "3.9.12"
  },
  "orig_nbformat": 4
 },
 "nbformat": 4,
 "nbformat_minor": 2
}
