{
 "cells": [
  {
   "attachments": {},
   "cell_type": "markdown",
   "metadata": {},
   "source": [
    "## Pregunta: T4 - ¿La arquitectura, sección o mantenedor influye en el número de dependencias de un paquete?\n"
   ]
  },
  {
   "attachments": {},
   "cell_type": "markdown",
   "metadata": {},
   "source": [
    "### 1. Importaciones"
   ]
  },
  {
   "cell_type": "code",
   "execution_count": 1,
   "metadata": {},
   "outputs": [],
   "source": [
    "import pandas as pd\n",
    "import numpy as np\n",
    "import seaborn as sns\n",
    "import matplotlib.pyplot as plt\n",
    "\n",
    "from sklearn.linear_model import LinearRegression\n",
    "from sklearn.metrics import mean_squared_error, r2_score\n",
    "from scipy import stats\n",
    "import statsmodels.api as sm\n",
    "\n",
    "from IPython.display import display, Markdown"
   ]
  },
  {
   "attachments": {},
   "cell_type": "markdown",
   "metadata": {},
   "source": [
    "### 2. Lectura"
   ]
  },
  {
   "cell_type": "code",
   "execution_count": 2,
   "metadata": {},
   "outputs": [],
   "source": [
    "df = pd.read_csv(\"../../datawarehouse/processed-ubuntu-packages.csv\")"
   ]
  },
  {
   "attachments": {},
   "cell_type": "markdown",
   "metadata": {},
   "source": [
    "### 3. Preprocesado"
   ]
  },
  {
   "cell_type": "code",
   "execution_count": 45,
   "metadata": {},
   "outputs": [
    {
     "data": {
      "text/html": [
       "<div>\n",
       "<style scoped>\n",
       "    .dataframe tbody tr th:only-of-type {\n",
       "        vertical-align: middle;\n",
       "    }\n",
       "\n",
       "    .dataframe tbody tr th {\n",
       "        vertical-align: top;\n",
       "    }\n",
       "\n",
       "    .dataframe thead th {\n",
       "        text-align: right;\n",
       "    }\n",
       "</style>\n",
       "<table border=\"1\" class=\"dataframe\">\n",
       "  <thead>\n",
       "    <tr style=\"text-align: right;\">\n",
       "      <th></th>\n",
       "      <th>Architecture</th>\n",
       "      <th>Section</th>\n",
       "      <th>Maintainer</th>\n",
       "      <th>Package</th>\n",
       "      <th>Depends</th>\n",
       "      <th>Num_Depends</th>\n",
       "    </tr>\n",
       "  </thead>\n",
       "  <tbody>\n",
       "    <tr>\n",
       "      <th>0</th>\n",
       "      <td>amd64</td>\n",
       "      <td>admin</td>\n",
       "      <td>Ubuntu</td>\n",
       "      <td>acct</td>\n",
       "      <td>[libc6 (&gt;= 2.14),  lsb-base]</td>\n",
       "      <td>2</td>\n",
       "    </tr>\n",
       "    <tr>\n",
       "      <th>1</th>\n",
       "      <td>amd64</td>\n",
       "      <td>utils</td>\n",
       "      <td>Ubuntu</td>\n",
       "      <td>acl</td>\n",
       "      <td>[libacl1 (= 2.2.52-3build1),  libc6 (&gt;= 2.14)]</td>\n",
       "      <td>2</td>\n",
       "    </tr>\n",
       "    <tr>\n",
       "      <th>2</th>\n",
       "      <td>amd64</td>\n",
       "      <td>admin</td>\n",
       "      <td>Ubuntu</td>\n",
       "      <td>acpi-support</td>\n",
       "      <td>[acpid (&gt;= 1.0.4-1ubuntu4)]</td>\n",
       "      <td>1</td>\n",
       "    </tr>\n",
       "    <tr>\n",
       "      <th>3</th>\n",
       "      <td>amd64</td>\n",
       "      <td>admin</td>\n",
       "      <td>Ubuntu</td>\n",
       "      <td>acpid</td>\n",
       "      <td>[libc6 (&gt;= 2.15),  init-system-helpers (&gt;= 1.1...</td>\n",
       "      <td>4</td>\n",
       "    </tr>\n",
       "    <tr>\n",
       "      <th>4</th>\n",
       "      <td>all</td>\n",
       "      <td>admin</td>\n",
       "      <td>Ubuntu</td>\n",
       "      <td>adduser</td>\n",
       "      <td>[passwd,  debconf (&gt;= 0.5) | debconf-2.0]</td>\n",
       "      <td>2</td>\n",
       "    </tr>\n",
       "  </tbody>\n",
       "</table>\n",
       "</div>"
      ],
      "text/plain": [
       "  Architecture Section Maintainer       Package  \\\n",
       "0        amd64   admin     Ubuntu          acct   \n",
       "1        amd64   utils     Ubuntu           acl   \n",
       "2        amd64   admin     Ubuntu  acpi-support   \n",
       "3        amd64   admin     Ubuntu         acpid   \n",
       "4          all   admin     Ubuntu       adduser   \n",
       "\n",
       "                                             Depends  Num_Depends  \n",
       "0                       [libc6 (>= 2.14),  lsb-base]            2  \n",
       "1     [libacl1 (= 2.2.52-3build1),  libc6 (>= 2.14)]            2  \n",
       "2                        [acpid (>= 1.0.4-1ubuntu4)]            1  \n",
       "3  [libc6 (>= 2.15),  init-system-helpers (>= 1.1...            4  \n",
       "4          [passwd,  debconf (>= 0.5) | debconf-2.0]            2  "
      ]
     },
     "execution_count": 45,
     "metadata": {},
     "output_type": "execute_result"
    }
   ],
   "source": [
    "df = pd.read_csv(\"../../datawarehouse/processed-ubuntu-packages.csv\")\n",
    "# Obtener unicamente Architecture, Section, Maintainer, Package y Depends\n",
    "df = df[['Architecture', 'Section', 'Maintainer', 'Package', 'Depends']]\n",
    "\n",
    "# Convertimos Depends a lista\n",
    "df['Depends'] = df['Depends'].apply(lambda x: str(x).split(','))\n",
    "\n",
    "# Calculamos el número de dependencias de cada paquete y agregarlo como una nueva columna al dataframe\n",
    "df['Num_Depends'] = df['Depends'].apply(lambda x: len(x))\n",
    "\n",
    "df.head()"
   ]
  },
  {
   "attachments": {},
   "cell_type": "markdown",
   "metadata": {},
   "source": [
    "### 4. Análisis"
   ]
  },
  {
   "attachments": {},
   "cell_type": "markdown",
   "metadata": {},
   "source": [
    "#### Arquitectura"
   ]
  },
  {
   "cell_type": "code",
   "execution_count": 16,
   "metadata": {},
   "outputs": [
    {
     "name": "stdout",
     "output_type": "stream",
     "text": [
      "Architecture:  ['amd64' 'all']\n"
     ]
    }
   ],
   "source": [
    "# Veremos los distintos valores que toma la columna Architecture\n",
    "print(\"Architecture: \", df['Architecture'].unique())"
   ]
  },
  {
   "cell_type": "code",
   "execution_count": 26,
   "metadata": {},
   "outputs": [
    {
     "name": "stdout",
     "output_type": "stream",
     "text": [
      "Correlación entre Num_Depends y Architecture:  -0.11829892015323715\n",
      "Valor p para la correlación entre Num_Depends y Architecture:  0.0\n"
     ]
    }
   ],
   "source": [
    "# Para calcular la correlación entre las variables, necesitamos convertir las variables categóricas a numéricas\n",
    "# Cambiaremos amd64 a 0 y all a 1\n",
    "df_arch = df['Architecture'].apply(lambda x: 0 if x == 'amd64' else 1)\n",
    "\n",
    "# Prueba de hipótesis para la correlación entre Num_Depends y Architecture\n",
    "corr_architecture, p_architecture = pearsonr(df['Num_Depends'], df_arch)\n",
    "print(\"Correlación entre Num_Depends y Architecture: \", corr_architecture)\n",
    "print(\"Valor p para la correlación entre Num_Depends y Architecture: \", p_architecture)"
   ]
  },
  {
   "attachments": {},
   "cell_type": "markdown",
   "metadata": {},
   "source": [
    "El resultado indica que hay una correlación negativa débil entre el número de dependencias de un paquete de Linux y la arquitectura que acepta. Como se ha asignado un valor numérico más alto (1) a la etiqueta 'all' que a la etiqueta 'amd64' (0), el hecho de que la correlación sea negativa indica que los paquetes con un número mayor de dependencias son menos propensos a ser compatibles con la arquitectura 'all'.\n",
    "\n",
    "El valor p de 0.0 indica que la correlación es estadísticamente significativa, lo que sugiere que la relación entre el número de dependencias y la arquitectura aceptada no es simplemente una coincidencia aleatoria y puede tener implicaciones prácticas en la selección y compatibilidad de los paquetes."
   ]
  },
  {
   "cell_type": "code",
   "execution_count": 44,
   "metadata": {},
   "outputs": [
    {
     "name": "stdout",
     "output_type": "stream",
     "text": [
      "Valor f para la prueba de hipótesis de igualdad de varianzas:  4254.09026135063\n",
      "Valor p para la prueba de hipótesis de igualdad de varianzas:  0.0\n"
     ]
    }
   ],
   "source": [
    "# Importamos la función para calcular la prueba de hipótesis de igualdad de varianzas\n",
    "from scipy.stats import f_oneway\n",
    "\n",
    "df_amd64 = df[df['Architecture'] == 'amd64']\n",
    "df_all = df[df['Architecture'] == 'all']\n",
    "\n",
    "\n",
    "f_stat, p_value = f_oneway(df_amd64['Num_Depends'], df_all['Num_Depends'])\n",
    "print(\"Valor f para la prueba de hipótesis de igualdad de varianzas: \", f_stat)\n",
    "print(\"Valor p para la prueba de hipótesis de igualdad de varianzas: \", p_value)\n"
   ]
  },
  {
   "attachments": {},
   "cell_type": "markdown",
   "metadata": {},
   "source": [
    "El valor F es una estadística de prueba que se utiliza para comparar la varianza de dos muestras. En este caso, el valor F es 4254.09026135063, lo que indica que la varianza del número de dependencias es significativamente diferente entre los dos grupos.\n",
    "\n",
    "El valor p es la probabilidad de obtener los resultados observados si la hipótesis nula es verdadera. En este caso, la hipótesis nula es que la varianza del número de dependencias es igual en los dos grupos. El valor p que has obtenido es 0.0, lo que indica que la probabilidad de obtener los resultados observados si la hipótesis nula es verdadera es extremadamente baja. Por lo tanto, podemos concluir que hay una diferencia significativa en la varianza del número de dependencias entre los paquetes con arquitectura \"amd64\" y los paquetes con arquitectura \"all\"."
   ]
  },
  {
   "attachments": {},
   "cell_type": "markdown",
   "metadata": {},
   "source": [
    "#### Sección"
   ]
  },
  {
   "cell_type": "code",
   "execution_count": 43,
   "metadata": {},
   "outputs": [
    {
     "name": "stdout",
     "output_type": "stream",
     "text": [
      "Número de secciones distintas:  150\n"
     ]
    }
   ],
   "source": [
    "# Veremos los distintos valores que toma la columna Section\n",
    "print(\"Número de secciones distintas: \", df['Section'].nunique())"
   ]
  },
  {
   "cell_type": "code",
   "execution_count": 53,
   "metadata": {},
   "outputs": [
    {
     "name": "stdout",
     "output_type": "stream",
     "text": [
      "Sección con mayor diferencia:  ('universe/kde', 3677.3298140720203)\n",
      "Sección con menor diferencia:  ('universe/gnustep', 9.931416478491671e-05)\n",
      "Media de las diferencias:  113.05576929742968\n"
     ]
    }
   ],
   "source": [
    "from scipy.stats import levene\n",
    "# Test estadístico para ver si la distribución de Num_Depends es la misma para cada sección\n",
    "# Para esto, necesitamos dividir el dataframe en subdataframes, uno por cada sección\n",
    "# Para esto, agruparemos el dataframe por Section y obtendremos los grupos\n",
    "df_grouped = df.groupby('Section')\n",
    "\n",
    "\n",
    "# Para cada grupo, calcularemos el valor f y el valor p\n",
    "# Lo almacenaremos en un diccionario\n",
    "dict_f = {}\n",
    "for name, group in df_grouped:\n",
    "    f_stat, p_value = levene(group['Num_Depends'], df['Num_Depends'])\n",
    "    # almacena los valores f y p en un diccionario\n",
    "    dict_f[name] = f_stat\n",
    "\n",
    "# Veremos si hay mucha diferencia con el valor f para la prueba de hipótesis de igualdad de varianzas entre el primer y ultimo grupo\n",
    "# Ordenamos el diccionario por valor f\n",
    "dict_f = sorted(dict_f.items(), key=lambda x: x[1], reverse=True)\n",
    "print(\"Sección con mayor diferencia: \", dict_f[0])\n",
    "print(\"Sección con menor diferencia: \", dict_f[-1])\n",
    "\n",
    "# Media de las diferencias\n",
    "mean_diff = np.mean([x[1] for x in dict_f])\n",
    "print(\"Media de las diferencias: \", mean_diff)\n",
    "\n",
    "\n"
   ]
  },
  {
   "attachments": {},
   "cell_type": "markdown",
   "metadata": {},
   "source": [
    "La prueba de hipótesis de igualdad de varianzas compara la varianza de dos o más grupos. Si el valor p de la prueba es menor que el nivel de significancia establecido (generalmente 0.05), se rechaza la hipótesis nula de que las varianzas son iguales y se concluye que al menos una varianza es significativamente diferente de las demás.\n",
    "\n",
    "En este caso, los resultados muestran que hay una gran diferencia en las varianzas de Num_Depends entre las secciones 'universe/kde' y 'universe/gnustep', lo que se indica por la gran diferencia en el valor F (3677.33 frente a 0.0001) entre estas dos secciones.\n",
    "\n",
    "Además, la media de las diferencias entre las varianzas de todas las secciones es 113.06, lo que sugiere que en general hay diferencias significativas entre las varianzas de las secciones."
   ]
  },
  {
   "attachments": {},
   "cell_type": "markdown",
   "metadata": {},
   "source": [
    "#### Mantenedor"
   ]
  },
  {
   "cell_type": "code",
   "execution_count": 58,
   "metadata": {},
   "outputs": [
    {
     "name": "stdout",
     "output_type": "stream",
     "text": [
      "El valor estadístico del test es: 43.74539776407028\n",
      "El valor p del test es: 0.0\n"
     ]
    }
   ],
   "source": [
    "# Un test estadísitico que podemos usar para analizar cómo influyen los Mantainers en el número de dependencias es el test de ANOVA\n",
    "\n",
    "groups = df.groupby('Maintainer')['Num_Depends'].apply(list)\n",
    "anova_test = f_oneway(*groups)\n",
    "\n",
    "print(\"El valor estadístico del test es:\", anova_test.statistic)\n",
    "print(\"El valor p del test es:\", anova_test.pvalue)\n"
   ]
  },
  {
   "attachments": {},
   "cell_type": "markdown",
   "metadata": {},
   "source": [
    "El valor estadístico del test ANOVA que hemos obtenido es de 43.75 y el valor p es de 0.0. Esto significa que existe una diferencia estadísticamente significativa en el número promedio de dependencias entre los diferentes grupos de Maintainer.\n",
    "\n",
    "En otras palabras, la variable categórica Maintainer tiene un efecto significativo en el número promedio de dependencias de un paquete. Por lo tanto, es probable que los distintos mantenedores del paquete tengan diferentes prácticas y/o estándares al momento de definir las dependencias de sus paquetes."
   ]
  }
 ],
 "metadata": {
  "kernelspec": {
   "display_name": "base",
   "language": "python",
   "name": "python3"
  },
  "language_info": {
   "codemirror_mode": {
    "name": "ipython",
    "version": 3
   },
   "file_extension": ".py",
   "mimetype": "text/x-python",
   "name": "python",
   "nbconvert_exporter": "python",
   "pygments_lexer": "ipython3",
   "version": "3.9.12"
  },
  "orig_nbformat": 4
 },
 "nbformat": 4,
 "nbformat_minor": 2
}
