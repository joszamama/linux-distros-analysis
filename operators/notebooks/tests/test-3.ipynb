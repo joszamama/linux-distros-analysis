{
 "cells": [
  {
   "attachments": {},
   "cell_type": "markdown",
   "metadata": {},
   "source": [
    "## Pregunta: T3 - Entre la primera y la última versión de Ubuntu, ¿han habido cambios en los pesos de los paquetes? ¿Las distros pesan más? Comparación de todos los paquetes comparativa con todas las versiones"
   ]
  },
  {
   "attachments": {},
   "cell_type": "markdown",
   "metadata": {},
   "source": [
    "### 1. Importaciones"
   ]
  },
  {
   "cell_type": "code",
   "execution_count": 7,
   "metadata": {},
   "outputs": [],
   "source": [
    "import pandas as pd\n",
    "from scipy import stats"
   ]
  },
  {
   "attachments": {},
   "cell_type": "markdown",
   "metadata": {},
   "source": [
    "### 2. Lectura"
   ]
  },
  {
   "cell_type": "code",
   "execution_count": 8,
   "metadata": {},
   "outputs": [],
   "source": [
    "df = pd.read_csv(\"../../datawarehouse/processed-ubuntu-packages.csv\")"
   ]
  },
  {
   "attachments": {},
   "cell_type": "markdown",
   "metadata": {},
   "source": [
    "### 3. Preprocesado"
   ]
  },
  {
   "cell_type": "code",
   "execution_count": 9,
   "metadata": {},
   "outputs": [],
   "source": [
    "# Filtrar los datos para quedarnos solo con los paquetes que están presentes en más de una versión\n",
    "paquetes = df['Package'].value_counts()[df['Package'].value_counts() > 1].index\n",
    "df = df[df['Package'].isin(paquetes)]\n",
    "\n",
    "# Convertir la columna Size a tipo numérico\n",
    "df['Size'] = pd.to_numeric(df['Size'])\n",
    "\n",
    "# Crear una columna con el número de versión de Ubuntu\n",
    "df['VersionNumber'] = df['Distro-Version'].apply(lambda x: int(x.split('.')[0].replace('-', '')))\n"
   ]
  },
  {
   "attachments": {},
   "cell_type": "markdown",
   "metadata": {},
   "source": [
    "### 4. Calcular diferencia tamaño"
   ]
  },
  {
   "cell_type": "code",
   "execution_count": 10,
   "metadata": {},
   "outputs": [
    {
     "name": "stdout",
     "output_type": "stream",
     "text": [
      "Hay evidencia suficiente para afirmar que las distros pesan más.\n",
      "El valor del estadístico de prueba t es 6.57, lo que indica que las diferencias en los tamaños de los paquetes son estadísticamente significativas.\n"
     ]
    }
   ],
   "source": [
    "# Calcular la diferencia de tamaño entre la primera y la última versión de Ubuntu para cada paquete\n",
    "diff_sizes = df.groupby('Package')['Size'].apply(lambda x: x.iloc[-1] - x.iloc[0]).reset_index()\n",
    "diff_sizes.columns = ['Package', 'DiffSize']\n",
    "\n",
    "# Realizar un test de hipótesis para determinar si hay evidencia suficiente para afirmar que las distros pesan más\n",
    "t_stat, p_value = stats.ttest_1samp(diff_sizes['DiffSize'], 0)\n",
    "if p_value < 0.05:\n",
    "    print('Hay evidencia suficiente para afirmar que las distros pesan más.')\n",
    "    print(f\"El valor del estadístico de prueba t es {t_stat:.2f}, lo que indica que las diferencias en los tamaños de los paquetes son estadísticamente significativas.\")\n",
    "else:\n",
    "    print('No hay evidencia suficiente para afirmar que las distros pesan más.')\n",
    "    print(f\"El p-value es {p_value:.2f}, lo que indica que no se puede rechazar la hipótesis nula de que no hay diferencias significativas en los tamaños de los paquetes entre la primera y la última versión de Ubuntu.\")"
   ]
  },
  {
   "cell_type": "code",
   "execution_count": 11,
   "metadata": {},
   "outputs": [
    {
     "name": "stdout",
     "output_type": "stream",
     "text": [
      "               Package     DiffSize\n",
      "0                  0ad    2079578.0\n",
      "1             0ad-data  737301252.0\n",
      "2      0ad-data-common       2832.0\n",
      "3             0install     106924.0\n",
      "4        0install-core     529940.0\n",
      "...                ...          ...\n",
      "77799    zypper-common     -63620.0\n",
      "77800       zypper-doc        920.0\n",
      "77801           zytrax      22792.0\n",
      "77802      zziplib-bin      12600.0\n",
      "77803             zzuf       9266.0\n",
      "\n",
      "[77804 rows x 2 columns]\n"
     ]
    }
   ],
   "source": [
    "# Calculamos la diferencia exacta de tamaño entre la primera y la última versión de Ubuntu para cada paquete\n",
    "diff_sizes['DiffExact'] = df.groupby('Package')['Size'].apply(lambda x: x.iloc[-1] - x.iloc[0])\n",
    "\n",
    "# Seleccionamos solo las columnas que nos interesan\n",
    "diff_sizes = diff_sizes[['Package', 'DiffSize']]\n",
    "\n",
    "# Mostramos el DataFrame con las diferencias de tamaño\n",
    "print(diff_sizes)"
   ]
  }
 ],
 "metadata": {
  "kernelspec": {
   "display_name": "Python 3",
   "language": "python",
   "name": "python3"
  },
  "language_info": {
   "codemirror_mode": {
    "name": "ipython",
    "version": 3
   },
   "file_extension": ".py",
   "mimetype": "text/x-python",
   "name": "python",
   "nbconvert_exporter": "python",
   "pygments_lexer": "ipython3",
   "version": "3.11.1"
  },
  "orig_nbformat": 4,
  "vscode": {
   "interpreter": {
    "hash": "0f07422c8c9e1a5686c084496b2f8305ae3e8042acf2136c1600afab83cd5077"
   }
  }
 },
 "nbformat": 4,
 "nbformat_minor": 2
}
