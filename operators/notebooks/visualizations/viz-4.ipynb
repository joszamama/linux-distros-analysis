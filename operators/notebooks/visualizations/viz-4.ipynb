{
 "cells": [
  {
   "attachments": {},
   "cell_type": "markdown",
   "metadata": {},
   "source": [
    "## Pregunta: V4 - Análisis de correlación entre el tamaño de las versiones de la distribución Ubuntu "
   ]
  },
  {
   "attachments": {},
   "cell_type": "markdown",
   "metadata": {},
   "source": [
    "### 1. Importaciones"
   ]
  },
  {
   "cell_type": "code",
   "execution_count": 2,
   "metadata": {},
   "outputs": [],
   "source": [
    "import pandas as pd\n",
    "import matplotlib.pyplot as plt\n",
    "import numpy as np\n",
    "import seaborn as sns"
   ]
  },
  {
   "attachments": {},
   "cell_type": "markdown",
   "metadata": {},
   "source": [
    "### 2. Lectura"
   ]
  },
  {
   "cell_type": "code",
   "execution_count": 15,
   "metadata": {},
   "outputs": [],
   "source": [
    "df = pd.read_csv(\"../../datawarehouse/processed-ubuntu-packages.csv\")"
   ]
  },
  {
   "attachments": {},
   "cell_type": "markdown",
   "metadata": {},
   "source": [
    "### 3. Preprocesado"
   ]
  },
  {
   "cell_type": "code",
   "execution_count": 16,
   "metadata": {},
   "outputs": [
    {
     "data": {
      "text/html": [
       "<div>\n",
       "<style scoped>\n",
       "    .dataframe tbody tr th:only-of-type {\n",
       "        vertical-align: middle;\n",
       "    }\n",
       "\n",
       "    .dataframe tbody tr th {\n",
       "        vertical-align: top;\n",
       "    }\n",
       "\n",
       "    .dataframe thead th {\n",
       "        text-align: right;\n",
       "    }\n",
       "</style>\n",
       "<table border=\"1\" class=\"dataframe\">\n",
       "  <thead>\n",
       "    <tr style=\"text-align: right;\">\n",
       "      <th></th>\n",
       "      <th>Distro-Version</th>\n",
       "      <th>Distro-Year</th>\n",
       "      <th>Package</th>\n",
       "      <th>Description</th>\n",
       "      <th>Section</th>\n",
       "      <th>Version</th>\n",
       "      <th>Architecture</th>\n",
       "      <th>Priority</th>\n",
       "      <th>Essential</th>\n",
       "      <th>Build-Essential</th>\n",
       "      <th>...</th>\n",
       "      <th>Original-Maintainer</th>\n",
       "      <th>Size</th>\n",
       "      <th>Installed-Size</th>\n",
       "      <th>Depends</th>\n",
       "      <th>Pre-Depends</th>\n",
       "      <th>Recommends</th>\n",
       "      <th>Conflicts</th>\n",
       "      <th>Suggests</th>\n",
       "      <th>Replaces</th>\n",
       "      <th>Provides</th>\n",
       "    </tr>\n",
       "  </thead>\n",
       "  <tbody>\n",
       "    <tr>\n",
       "      <th>0</th>\n",
       "      <td>18.04 - bionic</td>\n",
       "      <td>2018</td>\n",
       "      <td>acct</td>\n",
       "      <td>Description</td>\n",
       "      <td>admin</td>\n",
       "      <td>6.6.4-1</td>\n",
       "      <td>amd64</td>\n",
       "      <td>optional</td>\n",
       "      <td>no</td>\n",
       "      <td>no</td>\n",
       "      <td>...</td>\n",
       "      <td>Debian</td>\n",
       "      <td>87216.0</td>\n",
       "      <td>297.0</td>\n",
       "      <td>libc6 (&gt;= 2.14), lsb-base</td>\n",
       "      <td>NaN</td>\n",
       "      <td>NaN</td>\n",
       "      <td>NaN</td>\n",
       "      <td>NaN</td>\n",
       "      <td>NaN</td>\n",
       "      <td>NaN</td>\n",
       "    </tr>\n",
       "    <tr>\n",
       "      <th>1</th>\n",
       "      <td>18.04 - bionic</td>\n",
       "      <td>2018</td>\n",
       "      <td>acl</td>\n",
       "      <td>Description</td>\n",
       "      <td>utils</td>\n",
       "      <td>2.2.52-3build1</td>\n",
       "      <td>amd64</td>\n",
       "      <td>optional</td>\n",
       "      <td>no</td>\n",
       "      <td>no</td>\n",
       "      <td>...</td>\n",
       "      <td>Anibal</td>\n",
       "      <td>38504.0</td>\n",
       "      <td>200.0</td>\n",
       "      <td>libacl1 (= 2.2.52-3build1), libc6 (&gt;= 2.14)</td>\n",
       "      <td>NaN</td>\n",
       "      <td>NaN</td>\n",
       "      <td>NaN</td>\n",
       "      <td>NaN</td>\n",
       "      <td>NaN</td>\n",
       "      <td>NaN</td>\n",
       "    </tr>\n",
       "    <tr>\n",
       "      <th>2</th>\n",
       "      <td>18.04 - bionic</td>\n",
       "      <td>2018</td>\n",
       "      <td>acpi-support</td>\n",
       "      <td>Description</td>\n",
       "      <td>admin</td>\n",
       "      <td>0.142</td>\n",
       "      <td>amd64</td>\n",
       "      <td>optional</td>\n",
       "      <td>no</td>\n",
       "      <td>no</td>\n",
       "      <td>...</td>\n",
       "      <td>Bart</td>\n",
       "      <td>10196.0</td>\n",
       "      <td>92.0</td>\n",
       "      <td>acpid (&gt;= 1.0.4-1ubuntu4)</td>\n",
       "      <td>NaN</td>\n",
       "      <td>toshset, wireless-tools</td>\n",
       "      <td>uswsusp (&lt;= 0.2)</td>\n",
       "      <td>NaN</td>\n",
       "      <td>NaN</td>\n",
       "      <td>NaN</td>\n",
       "    </tr>\n",
       "    <tr>\n",
       "      <th>3</th>\n",
       "      <td>18.04 - bionic</td>\n",
       "      <td>2018</td>\n",
       "      <td>acpid</td>\n",
       "      <td>Description</td>\n",
       "      <td>admin</td>\n",
       "      <td>1:2.0.28-1ubuntu1</td>\n",
       "      <td>amd64</td>\n",
       "      <td>optional</td>\n",
       "      <td>no</td>\n",
       "      <td>no</td>\n",
       "      <td>...</td>\n",
       "      <td>Debian</td>\n",
       "      <td>36518.0</td>\n",
       "      <td>139.0</td>\n",
       "      <td>libc6 (&gt;= 2.15), init-system-helpers (&gt;= 1.18~...</td>\n",
       "      <td>NaN</td>\n",
       "      <td>toshset, wireless-tools</td>\n",
       "      <td>uswsusp (&lt;= 0.2)</td>\n",
       "      <td>NaN</td>\n",
       "      <td>NaN</td>\n",
       "      <td>NaN</td>\n",
       "    </tr>\n",
       "    <tr>\n",
       "      <th>4</th>\n",
       "      <td>18.04 - bionic</td>\n",
       "      <td>2018</td>\n",
       "      <td>adduser</td>\n",
       "      <td>Description</td>\n",
       "      <td>admin</td>\n",
       "      <td>3.116ubuntu1</td>\n",
       "      <td>all</td>\n",
       "      <td>important</td>\n",
       "      <td>no</td>\n",
       "      <td>yes</td>\n",
       "      <td>...</td>\n",
       "      <td>Debian</td>\n",
       "      <td>162684.0</td>\n",
       "      <td>624.0</td>\n",
       "      <td>passwd, debconf (&gt;= 0.5) | debconf-2.0</td>\n",
       "      <td>NaN</td>\n",
       "      <td>toshset, wireless-tools</td>\n",
       "      <td>uswsusp (&lt;= 0.2)</td>\n",
       "      <td>liblocale-gettext-perl, perl, ecryptfs-utils (...</td>\n",
       "      <td>NaN</td>\n",
       "      <td>NaN</td>\n",
       "    </tr>\n",
       "  </tbody>\n",
       "</table>\n",
       "<p>5 rows × 21 columns</p>\n",
       "</div>"
      ],
      "text/plain": [
       "   Distro-Version  Distro-Year       Package  Description Section  \\\n",
       "0  18.04 - bionic         2018          acct  Description   admin   \n",
       "1  18.04 - bionic         2018           acl  Description   utils   \n",
       "2  18.04 - bionic         2018  acpi-support  Description   admin   \n",
       "3  18.04 - bionic         2018         acpid  Description   admin   \n",
       "4  18.04 - bionic         2018       adduser  Description   admin   \n",
       "\n",
       "             Version Architecture   Priority Essential Build-Essential  ...  \\\n",
       "0            6.6.4-1        amd64   optional        no              no  ...   \n",
       "1     2.2.52-3build1        amd64   optional        no              no  ...   \n",
       "2              0.142        amd64   optional        no              no  ...   \n",
       "3  1:2.0.28-1ubuntu1        amd64   optional        no              no  ...   \n",
       "4       3.116ubuntu1          all  important        no             yes  ...   \n",
       "\n",
       "  Original-Maintainer      Size  Installed-Size  \\\n",
       "0              Debian   87216.0           297.0   \n",
       "1              Anibal   38504.0           200.0   \n",
       "2                Bart   10196.0            92.0   \n",
       "3              Debian   36518.0           139.0   \n",
       "4              Debian  162684.0           624.0   \n",
       "\n",
       "                                             Depends Pre-Depends  \\\n",
       "0                          libc6 (>= 2.14), lsb-base         NaN   \n",
       "1        libacl1 (= 2.2.52-3build1), libc6 (>= 2.14)         NaN   \n",
       "2                          acpid (>= 1.0.4-1ubuntu4)         NaN   \n",
       "3  libc6 (>= 2.15), init-system-helpers (>= 1.18~...         NaN   \n",
       "4             passwd, debconf (>= 0.5) | debconf-2.0         NaN   \n",
       "\n",
       "                Recommends         Conflicts  \\\n",
       "0                      NaN               NaN   \n",
       "1                      NaN               NaN   \n",
       "2  toshset, wireless-tools  uswsusp (<= 0.2)   \n",
       "3  toshset, wireless-tools  uswsusp (<= 0.2)   \n",
       "4  toshset, wireless-tools  uswsusp (<= 0.2)   \n",
       "\n",
       "                                            Suggests Replaces Provides  \n",
       "0                                                NaN      NaN      NaN  \n",
       "1                                                NaN      NaN      NaN  \n",
       "2                                                NaN      NaN      NaN  \n",
       "3                                                NaN      NaN      NaN  \n",
       "4  liblocale-gettext-perl, perl, ecryptfs-utils (...      NaN      NaN  \n",
       "\n",
       "[5 rows x 21 columns]"
      ]
     },
     "execution_count": 16,
     "metadata": {},
     "output_type": "execute_result"
    }
   ],
   "source": [
    "# Seleccionar las columnas de interés\n",
    "cols = ['Distro-Version', 'Size', 'Installed-Size']\n",
    "\n",
    "# Crear un nuevo dataframe con solo las columnas seleccionadas\n",
    "df_selected = df[cols]"
   ]
  },
  {
   "attachments": {},
   "cell_type": "markdown",
   "metadata": {},
   "source": [
    "### 4. Cálculos"
   ]
  },
  {
   "cell_type": "code",
   "execution_count": 13,
   "metadata": {},
   "outputs": [
    {
     "name": "stdout",
     "output_type": "stream",
     "text": [
      "Correlaciones fuertes:\n",
      "Empty DataFrame\n",
      "Columns: [Variable 1, Variable 2, Correlación]\n",
      "Index: []\n",
      "Correlaciones débiles:\n",
      "       Variable 1      Variable 2  Correlación\n",
      "0            Size  Installed-Size         0.43\n",
      "1  Installed-Size            Size         0.43\n"
     ]
    },
    {
     "name": "stderr",
     "output_type": "stream",
     "text": [
      "C:\\Users\\diego\\AppData\\Local\\Temp\\ipykernel_13648\\2082004414.py:10: FutureWarning: The default value of numeric_only in DataFrame.corr is deprecated. In a future version, it will default to False. Select only valid columns or specify the value of numeric_only to silence this warning.\n",
      "  corr_matrix = df_selected.corr()\n"
     ]
    },
    {
     "data": {
      "image/png": "[encoded data removed]",
      "text/plain": [
       "<Figure size 640x480 with 2 Axes>"
      ]
     },
     "metadata": {},
     "output_type": "display_data"
    }
   ],
   "source": [
    "# Cálculo de la correlación. obtener un valor numérico que indica la fuerza y dirección de la relación entre las variables\n",
    "\n",
    "# Calcular la matriz de correlación\n",
    "corr_matrix = df_selected.corr()\n",
    "\n",
    "# Redondear los valores de correlación a dos decimales\n",
    "corr_matrix = corr_matrix.round(2)\n",
    "\n",
    "# Crear un mapa de calor de la matriz de correlación\n",
    "sns.heatmap(corr_matrix, annot=True)\n",
    "\n",
    "# Identificar las correlaciones más fuertes y débiles y destacarlas en el resultado impreso\n",
    "strong_corr = corr_matrix[abs(corr_matrix) >= 0.5].stack().reset_index()\n",
    "strong_corr.columns = ['Variable 1', 'Variable 2', 'Correlación']\n",
    "strong_corr = strong_corr.loc[strong_corr['Variable 1'] != strong_corr['Variable 2']]\n",
    "strong_corr = strong_corr.sort_values(by='Correlación', ascending=False)\n",
    "print('Correlaciones fuertes:')\n",
    "print(strong_corr.head())\n",
    "\n",
    "weak_corr = corr_matrix[abs(corr_matrix) < 0.5].stack().reset_index()\n",
    "weak_corr.columns = ['Variable 1', 'Variable 2', 'Correlación']\n",
    "weak_corr = weak_corr.loc[weak_corr['Variable 1'] != weak_corr['Variable 2']]\n",
    "weak_corr = weak_corr.sort_values(by='Correlación', ascending=True)\n",
    "print('Correlaciones débiles:')\n",
    "print(weak_corr.head())\n"
   ]
  },
  {
   "cell_type": "code",
   "execution_count": 19,
   "metadata": {},
   "outputs": [
    {
     "name": "stdout",
     "output_type": "stream",
     "text": [
      "Top 10 paquetes más grandes de 18.04 - bionic:\n",
      "astrometry-data-2mass-00: 13882041.0 bytes\n",
      "astrometry-data-2mass-01: 9035093.0 bytes\n",
      "astrometry-data-2mass-02: 4940338.0 bytes\n",
      "kicad-common: 2861721.0 bytes\n",
      "astrometry-data-2mass-03: 2565832.0 bytes\n",
      "piglit: 2008407.0 bytes\n",
      "0ad-data: 1737365.0 bytes\n",
      "synphot-data: 1737300.0 bytes\n",
      "flightgear-data-base: 1586889.0 bytes\n",
      "unidic-mecab: 1444023.0 bytes\n",
      "Tamaño total de la distribución: 871842226.0 bytes\n",
      "\n",
      "Top 10 paquetes más grandes de 20.04 - focal:\n",
      "astrometry-data-2mass-00: 13882041.0 bytes\n",
      "astrometry-data-2mass-01: 9035093.0 bytes\n",
      "unidic-mecab: 7389818.0 bytes\n",
      "kicad-packages3d: 5117869.0 bytes\n",
      "astrometry-data-2mass-02: 4940338.0 bytes\n",
      "astrometry-data-2mass-03: 2565832.0 bytes\n",
      "0ad-data: 2044173.0 bytes\n",
      "piglit: 2029006.0 bytes\n",
      "flightgear-data-base: 1732973.0 bytes\n",
      "acl2-books: 1582606.0 bytes\n",
      "Tamaño total de la distribución: 1022912937.0 bytes\n",
      "\n",
      "Top 10 paquetes más grandes de 22.04 - jammy:\n",
      "astrometry-data-2mass-00: 13882041.0 bytes\n",
      "astrometry-data-2mass-01: 9035093.0 bytes\n",
      "unidic-mecab: 7389818.0 bytes\n",
      "kicad-packages3d: 5449675.0 bytes\n",
      "astrometry-data-2mass-02: 4940338.0 bytes\n",
      "gcc-snapshot: 4388456.0 bytes\n",
      "0ad-data: 3210038.0 bytes\n",
      "dotnet-sdk-6.0-source-built-artifacts: 2848465.0 bytes\n",
      "astrometry-data-2mass-03: 2565832.0 bytes\n",
      "acl2-books: 2443734.0 bytes\n",
      "Tamaño total de la distribución: 661766825.0 bytes\n",
      "\n",
      "Top 10 paquetes más grandes de 22.10 - kinetic:\n",
      "astrometry-data-2mass-00: 13882041.0 bytes\n",
      "astrometry-data-2mass-01: 9035093.0 bytes\n",
      "unidic-mecab: 7389818.0 bytes\n",
      "kicad-packages3d: 5480712.0 bytes\n",
      "astrometry-data-2mass-02: 4940338.0 bytes\n",
      "gcc-snapshot: 4645949.0 bytes\n",
      "google-android-ndk-r21e-installer: 4118999.0 bytes\n",
      "google-android-ndk-r21d-installer: 4118994.0 bytes\n",
      "google-android-ndk-r21b-installer: 3998686.0 bytes\n",
      "google-android-ndk-r21c-installer: 3998558.0 bytes\n",
      "Tamaño total de la distribución: 550824551.0 bytes\n",
      "\n"
     ]
    }
   ],
   "source": [
    "# Identificar los paquetes más grandes\n",
    "\n",
    "# Seleccionar las columnas de interés\n",
    "cols = ['Distro-Version', 'Package', 'Installed-Size']\n",
    "\n",
    "# Crear un nuevo dataframe con solo las columnas seleccionadas\n",
    "df_selected = df[cols]\n",
    "\n",
    "# Agrupar los datos por versión de Ubuntu y calcular el tamaño total de la distribución\n",
    "grouped = df_selected.groupby('Distro-Version').agg({'Installed-Size': 'sum'})\n",
    "\n",
    "# Iterar sobre cada grupo y obtener los 10 paquetes más grandes de cada versión de Ubuntu\n",
    "for version, group in df_selected.groupby('Distro-Version'):\n",
    "    print(f\"Top 10 paquetes más grandes de {version}:\")\n",
    "    top_packages = group.sort_values(by='Installed-Size', ascending=False).head(10)\n",
    "    for _, row in top_packages.iterrows():\n",
    "        print(f\"{row['Package']}: {row['Installed-Size']} bytes\")\n",
    "    print(f\"Tamaño total de la distribución: {grouped.loc[version][0]} bytes\")\n",
    "    print()\n"
   ]
  },
  {
   "cell_type": "markdown",
   "metadata": {},
   "source": [
    "### 5. Visualización"
   ]
  },
  {
   "cell_type": "code",
   "execution_count": 20,
   "metadata": {},
   "outputs": [
    {
     "data": {
      "image/png": "[encoded data removed]",
      "text/plain": [
       "<Figure size 1000x600 with 1 Axes>"
      ]
     },
     "metadata": {},
     "output_type": "display_data"
    }
   ],
   "source": [
    "# Seleccionar la columna de \"Distro-Version\" y \"Size\"\n",
    "df = df[[\"Distro-Version\", \"Size\"]]\n",
    "\n",
    "# Crear un diagrama de cajas\n",
    "df.boxplot(by=\"Distro-Version\", figsize=(10, 6), vert=False)\n",
    "\n",
    "# Mostrar el diagrama\n",
    "plt.show()"
   ]
  }
 ],
 "metadata": {
  "kernelspec": {
   "display_name": "Python 3",
   "language": "python",
   "name": "python3"
  },
  "language_info": {
   "codemirror_mode": {
    "name": "ipython",
    "version": 3
   },
   "file_extension": ".py",
   "mimetype": "text/x-python",
   "name": "python",
   "nbconvert_exporter": "python",
   "pygments_lexer": "ipython3",
   "version": "3.11.1 (tags/v3.11.1:a7a450f, Dec  6 2022, 19:58:39) [MSC v.1934 64 bit (AMD64)]"
  },
  "orig_nbformat": 4,
  "vscode": {
   "interpreter": {
    "hash": "0f07422c8c9e1a5686c084496b2f8305ae3e8042acf2136c1600afab83cd5077"
   }
  }
 },
 "nbformat": 4,
 "nbformat_minor": 2
}
